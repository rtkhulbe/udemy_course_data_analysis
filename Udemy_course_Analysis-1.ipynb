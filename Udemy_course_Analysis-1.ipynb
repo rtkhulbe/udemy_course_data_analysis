{
 "cells": [
  {
   "cell_type": "code",
   "execution_count": 92,
   "metadata": {},
   "outputs": [],
   "source": [
    "# import the library\n",
    "import pandas as pd\n",
    "import matplotlib.pyplot as plt\n",
    "import plotly.express as px\n",
    "import seaborn as sns\n",
    "import imageio\n",
    "import os\n",
    "from IPython.display import Image, display"
   ]
  },
  {
   "cell_type": "code",
   "execution_count": 93,
   "metadata": {},
   "outputs": [],
   "source": [
    "# read the data \n",
    "df = pd.read_csv(\"Udemy Courses.csv\")"
   ]
  },
  {
   "cell_type": "code",
   "execution_count": 94,
   "metadata": {},
   "outputs": [
    {
     "data": {
      "text/plain": [
       "(3682, 11)"
      ]
     },
     "execution_count": 94,
     "metadata": {},
     "output_type": "execute_result"
    }
   ],
   "source": [
    "# print shape of the data\n",
    "df.shape"
   ]
  },
  {
   "cell_type": "code",
   "execution_count": 95,
   "metadata": {},
   "outputs": [
    {
     "data": {
      "text/html": [
       "<div>\n",
       "<style scoped>\n",
       "    .dataframe tbody tr th:only-of-type {\n",
       "        vertical-align: middle;\n",
       "    }\n",
       "\n",
       "    .dataframe tbody tr th {\n",
       "        vertical-align: top;\n",
       "    }\n",
       "\n",
       "    .dataframe thead th {\n",
       "        text-align: right;\n",
       "    }\n",
       "</style>\n",
       "<table border=\"1\" class=\"dataframe\">\n",
       "  <thead>\n",
       "    <tr style=\"text-align: right;\">\n",
       "      <th></th>\n",
       "      <th>course_id</th>\n",
       "      <th>course_title</th>\n",
       "      <th>is_paid</th>\n",
       "      <th>price</th>\n",
       "      <th>num_subscribers</th>\n",
       "      <th>num_reviews</th>\n",
       "      <th>num_lectures</th>\n",
       "      <th>level</th>\n",
       "      <th>content_duration</th>\n",
       "      <th>published_timestamp</th>\n",
       "      <th>subject</th>\n",
       "    </tr>\n",
       "  </thead>\n",
       "  <tbody>\n",
       "    <tr>\n",
       "      <th>0</th>\n",
       "      <td>288942</td>\n",
       "      <td>#1 Piano Hand Coordination: Play 10th Ballad i...</td>\n",
       "      <td>True</td>\n",
       "      <td>35</td>\n",
       "      <td>3137</td>\n",
       "      <td>18</td>\n",
       "      <td>68</td>\n",
       "      <td>All Levels</td>\n",
       "      <td>1.5 hours</td>\n",
       "      <td>2014-09-18T05:07:05Z</td>\n",
       "      <td>Musical Instruments</td>\n",
       "    </tr>\n",
       "    <tr>\n",
       "      <th>1</th>\n",
       "      <td>1170074</td>\n",
       "      <td>#10 Hand Coordination - Transfer Chord Ballad ...</td>\n",
       "      <td>True</td>\n",
       "      <td>75</td>\n",
       "      <td>1593</td>\n",
       "      <td>1</td>\n",
       "      <td>41</td>\n",
       "      <td>Intermediate Level</td>\n",
       "      <td>1 hour</td>\n",
       "      <td>2017-04-12T19:06:34Z</td>\n",
       "      <td>Musical Instruments</td>\n",
       "    </tr>\n",
       "    <tr>\n",
       "      <th>2</th>\n",
       "      <td>1193886</td>\n",
       "      <td>#12 Hand Coordination: Let your Hands dance wi...</td>\n",
       "      <td>True</td>\n",
       "      <td>75</td>\n",
       "      <td>482</td>\n",
       "      <td>1</td>\n",
       "      <td>47</td>\n",
       "      <td>Intermediate Level</td>\n",
       "      <td>1.5 hours</td>\n",
       "      <td>2017-04-26T18:34:57Z</td>\n",
       "      <td>Musical Instruments</td>\n",
       "    </tr>\n",
       "    <tr>\n",
       "      <th>3</th>\n",
       "      <td>1116700</td>\n",
       "      <td>#4 Piano Hand Coordination: Fun Piano Runs in ...</td>\n",
       "      <td>True</td>\n",
       "      <td>75</td>\n",
       "      <td>850</td>\n",
       "      <td>3</td>\n",
       "      <td>43</td>\n",
       "      <td>Intermediate Level</td>\n",
       "      <td>1 hour</td>\n",
       "      <td>2017-02-21T23:48:18Z</td>\n",
       "      <td>Musical Instruments</td>\n",
       "    </tr>\n",
       "    <tr>\n",
       "      <th>4</th>\n",
       "      <td>1120410</td>\n",
       "      <td>#5  Piano Hand Coordination:  Piano Runs in 2 ...</td>\n",
       "      <td>True</td>\n",
       "      <td>75</td>\n",
       "      <td>940</td>\n",
       "      <td>3</td>\n",
       "      <td>32</td>\n",
       "      <td>Intermediate Level</td>\n",
       "      <td>37 mins</td>\n",
       "      <td>2017-02-21T23:44:49Z</td>\n",
       "      <td>Musical Instruments</td>\n",
       "    </tr>\n",
       "  </tbody>\n",
       "</table>\n",
       "</div>"
      ],
      "text/plain": [
       "   course_id                                       course_title  is_paid  \\\n",
       "0     288942  #1 Piano Hand Coordination: Play 10th Ballad i...     True   \n",
       "1    1170074  #10 Hand Coordination - Transfer Chord Ballad ...     True   \n",
       "2    1193886  #12 Hand Coordination: Let your Hands dance wi...     True   \n",
       "3    1116700  #4 Piano Hand Coordination: Fun Piano Runs in ...     True   \n",
       "4    1120410  #5  Piano Hand Coordination:  Piano Runs in 2 ...     True   \n",
       "\n",
       "  price  num_subscribers  num_reviews  num_lectures               level  \\\n",
       "0    35             3137           18            68          All Levels   \n",
       "1    75             1593            1            41  Intermediate Level   \n",
       "2    75              482            1            47  Intermediate Level   \n",
       "3    75              850            3            43  Intermediate Level   \n",
       "4    75              940            3            32  Intermediate Level   \n",
       "\n",
       "  content_duration   published_timestamp              subject  \n",
       "0        1.5 hours  2014-09-18T05:07:05Z  Musical Instruments  \n",
       "1           1 hour  2017-04-12T19:06:34Z  Musical Instruments  \n",
       "2        1.5 hours  2017-04-26T18:34:57Z  Musical Instruments  \n",
       "3           1 hour  2017-02-21T23:48:18Z  Musical Instruments  \n",
       "4          37 mins  2017-02-21T23:44:49Z  Musical Instruments  "
      ]
     },
     "execution_count": 95,
     "metadata": {},
     "output_type": "execute_result"
    }
   ],
   "source": [
    "# print top 5 rows of the data\n",
    "df.head()"
   ]
  },
  {
   "cell_type": "code",
   "execution_count": 96,
   "metadata": {},
   "outputs": [
    {
     "data": {
      "text/plain": [
       "course_id              False\n",
       "course_title           False\n",
       "is_paid                False\n",
       "price                  False\n",
       "num_subscribers        False\n",
       "num_reviews            False\n",
       "num_lectures           False\n",
       "level                  False\n",
       "content_duration       False\n",
       "published_timestamp    False\n",
       "subject                False\n",
       "dtype: bool"
      ]
     },
     "execution_count": 96,
     "metadata": {},
     "output_type": "execute_result"
    }
   ],
   "source": [
    "# check the missing value in the data\n",
    "df.isna().any()"
   ]
  },
  {
   "cell_type": "code",
   "execution_count": 97,
   "metadata": {},
   "outputs": [
    {
     "data": {
      "text/plain": [
       "Index(['course_id', 'course_title', 'is_paid', 'price', 'num_subscribers',\n",
       "       'num_reviews', 'num_lectures', 'level', 'content_duration',\n",
       "       'published_timestamp', 'subject'],\n",
       "      dtype='object')"
      ]
     },
     "execution_count": 97,
     "metadata": {},
     "output_type": "execute_result"
    }
   ],
   "source": [
    "# print the column names\n",
    "df.columns"
   ]
  },
  {
   "cell_type": "code",
   "execution_count": 98,
   "metadata": {},
   "outputs": [
    {
     "data": {
      "text/plain": [
       "True"
      ]
     },
     "execution_count": 98,
     "metadata": {},
     "output_type": "execute_result"
    }
   ],
   "source": [
    "# print the duplicate value\n",
    "df.duplicated().any()"
   ]
  },
  {
   "cell_type": "markdown",
   "metadata": {},
   "source": [
    "DATA ANALYSIS\n"
   ]
  },
  {
   "cell_type": "code",
   "execution_count": 99,
   "metadata": {},
   "outputs": [
    {
     "data": {
      "text/html": [
       "<div>\n",
       "<style scoped>\n",
       "    .dataframe tbody tr th:only-of-type {\n",
       "        vertical-align: middle;\n",
       "    }\n",
       "\n",
       "    .dataframe tbody tr th {\n",
       "        vertical-align: top;\n",
       "    }\n",
       "\n",
       "    .dataframe thead th {\n",
       "        text-align: right;\n",
       "    }\n",
       "</style>\n",
       "<table border=\"1\" class=\"dataframe\">\n",
       "  <thead>\n",
       "    <tr style=\"text-align: right;\">\n",
       "      <th></th>\n",
       "      <th>course_id</th>\n",
       "      <th>course_title</th>\n",
       "      <th>is_paid</th>\n",
       "      <th>price</th>\n",
       "      <th>num_subscribers</th>\n",
       "      <th>num_reviews</th>\n",
       "      <th>num_lectures</th>\n",
       "      <th>level</th>\n",
       "      <th>content_duration</th>\n",
       "      <th>published_timestamp</th>\n",
       "      <th>subject</th>\n",
       "    </tr>\n",
       "  </thead>\n",
       "  <tbody>\n",
       "    <tr>\n",
       "      <th>216</th>\n",
       "      <td>599504</td>\n",
       "      <td>Advanced Scalable Python Web Development Using...</td>\n",
       "      <td>True</td>\n",
       "      <td>120</td>\n",
       "      <td>1299</td>\n",
       "      <td>56</td>\n",
       "      <td>71</td>\n",
       "      <td>Intermediate Level</td>\n",
       "      <td>14 hours</td>\n",
       "      <td>2016-08-11T22:09:24Z</td>\n",
       "      <td>Web Development</td>\n",
       "    </tr>\n",
       "    <tr>\n",
       "      <th>777</th>\n",
       "      <td>47963</td>\n",
       "      <td>Coding for Entrepreneurs: Learn Python, Django...</td>\n",
       "      <td>True</td>\n",
       "      <td>195</td>\n",
       "      <td>23412</td>\n",
       "      <td>799</td>\n",
       "      <td>251</td>\n",
       "      <td>All Levels</td>\n",
       "      <td>45 hours</td>\n",
       "      <td>2013-04-08T00:46:14Z</td>\n",
       "      <td>Web Development</td>\n",
       "    </tr>\n",
       "    <tr>\n",
       "      <th>814</th>\n",
       "      <td>631128</td>\n",
       "      <td>Complete Python Web Course: Build 8 Python Web...</td>\n",
       "      <td>True</td>\n",
       "      <td>110</td>\n",
       "      <td>7489</td>\n",
       "      <td>941</td>\n",
       "      <td>173</td>\n",
       "      <td>All Levels</td>\n",
       "      <td>16 hours</td>\n",
       "      <td>2015-11-08T20:57:35Z</td>\n",
       "      <td>Web Development</td>\n",
       "    </tr>\n",
       "    <tr>\n",
       "      <th>842</th>\n",
       "      <td>186096</td>\n",
       "      <td>Core: A Web App Reference Guide for Django, Py...</td>\n",
       "      <td>True</td>\n",
       "      <td>195</td>\n",
       "      <td>2497</td>\n",
       "      <td>98</td>\n",
       "      <td>154</td>\n",
       "      <td>All Levels</td>\n",
       "      <td>26 hours</td>\n",
       "      <td>2014-05-29T00:58:43Z</td>\n",
       "      <td>Web Development</td>\n",
       "    </tr>\n",
       "    <tr>\n",
       "      <th>1400</th>\n",
       "      <td>394832</td>\n",
       "      <td>Fun and creative web engineering with Python a...</td>\n",
       "      <td>False</td>\n",
       "      <td>Free</td>\n",
       "      <td>10917</td>\n",
       "      <td>319</td>\n",
       "      <td>25</td>\n",
       "      <td>All Levels</td>\n",
       "      <td>2 hours</td>\n",
       "      <td>2015-06-09T19:51:50Z</td>\n",
       "      <td>Web Development</td>\n",
       "    </tr>\n",
       "    <tr>\n",
       "      <th>1932</th>\n",
       "      <td>1038538</td>\n",
       "      <td>Introduction to QGIS Python Programming</td>\n",
       "      <td>True</td>\n",
       "      <td>85</td>\n",
       "      <td>197</td>\n",
       "      <td>26</td>\n",
       "      <td>28</td>\n",
       "      <td>Beginner Level</td>\n",
       "      <td>3.5 hours</td>\n",
       "      <td>2016-12-22T00:11:22Z</td>\n",
       "      <td>Web Development</td>\n",
       "    </tr>\n",
       "    <tr>\n",
       "      <th>1969</th>\n",
       "      <td>902888</td>\n",
       "      <td>Investment Portfolio Analysis with Python</td>\n",
       "      <td>True</td>\n",
       "      <td>50</td>\n",
       "      <td>209</td>\n",
       "      <td>13</td>\n",
       "      <td>37</td>\n",
       "      <td>All Levels</td>\n",
       "      <td>7 hours</td>\n",
       "      <td>2016-07-13T21:40:32Z</td>\n",
       "      <td>Business Finance</td>\n",
       "    </tr>\n",
       "    <tr>\n",
       "      <th>2294</th>\n",
       "      <td>391546</td>\n",
       "      <td>Learn Python and Django: Payment Processing</td>\n",
       "      <td>True</td>\n",
       "      <td>70</td>\n",
       "      <td>17714</td>\n",
       "      <td>198</td>\n",
       "      <td>23</td>\n",
       "      <td>All Levels</td>\n",
       "      <td>3.5 hours</td>\n",
       "      <td>2015-02-09T15:37:56Z</td>\n",
       "      <td>Web Development</td>\n",
       "    </tr>\n",
       "    <tr>\n",
       "      <th>2295</th>\n",
       "      <td>1063722</td>\n",
       "      <td>Learn Python Django - A Hands-On Course</td>\n",
       "      <td>True</td>\n",
       "      <td>50</td>\n",
       "      <td>1339</td>\n",
       "      <td>21</td>\n",
       "      <td>18</td>\n",
       "      <td>Beginner Level</td>\n",
       "      <td>2 hours</td>\n",
       "      <td>2017-01-18T21:53:34Z</td>\n",
       "      <td>Web Development</td>\n",
       "    </tr>\n",
       "    <tr>\n",
       "      <th>2341</th>\n",
       "      <td>546848</td>\n",
       "      <td>Learn to code in Python and learn Adobe Photos...</td>\n",
       "      <td>True</td>\n",
       "      <td>50</td>\n",
       "      <td>1132</td>\n",
       "      <td>1</td>\n",
       "      <td>29</td>\n",
       "      <td>All Levels</td>\n",
       "      <td>2 hours</td>\n",
       "      <td>2015-07-08T00:15:12Z</td>\n",
       "      <td>Graphic Design</td>\n",
       "    </tr>\n",
       "    <tr>\n",
       "      <th>2906</th>\n",
       "      <td>368340</td>\n",
       "      <td>Professional Python Web Development Using Flask</td>\n",
       "      <td>True</td>\n",
       "      <td>120</td>\n",
       "      <td>3420</td>\n",
       "      <td>489</td>\n",
       "      <td>102</td>\n",
       "      <td>Beginner Level</td>\n",
       "      <td>14.5 hours</td>\n",
       "      <td>2015-03-04T00:10:36Z</td>\n",
       "      <td>Web Development</td>\n",
       "    </tr>\n",
       "    <tr>\n",
       "      <th>2908</th>\n",
       "      <td>1035940</td>\n",
       "      <td>Professional RESTful API Design using Python F...</td>\n",
       "      <td>True</td>\n",
       "      <td>120</td>\n",
       "      <td>578</td>\n",
       "      <td>25</td>\n",
       "      <td>36</td>\n",
       "      <td>Intermediate Level</td>\n",
       "      <td>4.5 hours</td>\n",
       "      <td>2017-01-11T21:15:25Z</td>\n",
       "      <td>Web Development</td>\n",
       "    </tr>\n",
       "    <tr>\n",
       "      <th>2929</th>\n",
       "      <td>270808</td>\n",
       "      <td>Projects in Django and Python</td>\n",
       "      <td>True</td>\n",
       "      <td>60</td>\n",
       "      <td>1764</td>\n",
       "      <td>53</td>\n",
       "      <td>28</td>\n",
       "      <td>All Levels</td>\n",
       "      <td>6.5 hours</td>\n",
       "      <td>2014-10-21T07:58:07Z</td>\n",
       "      <td>Web Development</td>\n",
       "    </tr>\n",
       "    <tr>\n",
       "      <th>2952</th>\n",
       "      <td>1170894</td>\n",
       "      <td>Python Algo Stock Trading: Automate Your Trading!</td>\n",
       "      <td>True</td>\n",
       "      <td>95</td>\n",
       "      <td>1165</td>\n",
       "      <td>21</td>\n",
       "      <td>41</td>\n",
       "      <td>Beginner Level</td>\n",
       "      <td>2.5 hours</td>\n",
       "      <td>2017-05-28T23:41:03Z</td>\n",
       "      <td>Business Finance</td>\n",
       "    </tr>\n",
       "    <tr>\n",
       "      <th>2953</th>\n",
       "      <td>1070886</td>\n",
       "      <td>Python Algo Trading: FX Trading with Oanda</td>\n",
       "      <td>True</td>\n",
       "      <td>200</td>\n",
       "      <td>453</td>\n",
       "      <td>42</td>\n",
       "      <td>33</td>\n",
       "      <td>Intermediate Level</td>\n",
       "      <td>3 hours</td>\n",
       "      <td>2017-03-14T00:39:45Z</td>\n",
       "      <td>Business Finance</td>\n",
       "    </tr>\n",
       "    <tr>\n",
       "      <th>2954</th>\n",
       "      <td>1196544</td>\n",
       "      <td>Python Algo Trading: Sentiment Trading with News</td>\n",
       "      <td>True</td>\n",
       "      <td>200</td>\n",
       "      <td>294</td>\n",
       "      <td>19</td>\n",
       "      <td>42</td>\n",
       "      <td>All Levels</td>\n",
       "      <td>7 hours</td>\n",
       "      <td>2017-04-28T16:41:44Z</td>\n",
       "      <td>Business Finance</td>\n",
       "    </tr>\n",
       "    <tr>\n",
       "      <th>2955</th>\n",
       "      <td>822444</td>\n",
       "      <td>Python and Django Full Stack Web Developer Boo...</td>\n",
       "      <td>True</td>\n",
       "      <td>200</td>\n",
       "      <td>11832</td>\n",
       "      <td>1883</td>\n",
       "      <td>191</td>\n",
       "      <td>All Levels</td>\n",
       "      <td>31.5 hours</td>\n",
       "      <td>2017-02-24T18:40:55Z</td>\n",
       "      <td>Web Development</td>\n",
       "    </tr>\n",
       "    <tr>\n",
       "      <th>2956</th>\n",
       "      <td>477702</td>\n",
       "      <td>Python for Beginners: Python Programming Langu...</td>\n",
       "      <td>True</td>\n",
       "      <td>150</td>\n",
       "      <td>6153</td>\n",
       "      <td>125</td>\n",
       "      <td>84</td>\n",
       "      <td>Beginner Level</td>\n",
       "      <td>5 hours</td>\n",
       "      <td>2015-06-14T18:18:57Z</td>\n",
       "      <td>Web Development</td>\n",
       "    </tr>\n",
       "    <tr>\n",
       "      <th>2957</th>\n",
       "      <td>1035472</td>\n",
       "      <td>Python for Finance: Investment Fundamentals &amp; ...</td>\n",
       "      <td>True</td>\n",
       "      <td>195</td>\n",
       "      <td>3811</td>\n",
       "      <td>278</td>\n",
       "      <td>103</td>\n",
       "      <td>All Levels</td>\n",
       "      <td>6.5 hours</td>\n",
       "      <td>2017-03-30T22:17:09Z</td>\n",
       "      <td>Business Finance</td>\n",
       "    </tr>\n",
       "    <tr>\n",
       "      <th>2958</th>\n",
       "      <td>529828</td>\n",
       "      <td>Python for Trading &amp; Investing</td>\n",
       "      <td>True</td>\n",
       "      <td>95</td>\n",
       "      <td>638</td>\n",
       "      <td>25</td>\n",
       "      <td>36</td>\n",
       "      <td>All Levels</td>\n",
       "      <td>5 hours</td>\n",
       "      <td>2015-06-17T22:23:31Z</td>\n",
       "      <td>Business Finance</td>\n",
       "    </tr>\n",
       "    <tr>\n",
       "      <th>2959</th>\n",
       "      <td>70640</td>\n",
       "      <td>Python Programming: Create an Digital Marketpl...</td>\n",
       "      <td>True</td>\n",
       "      <td>195</td>\n",
       "      <td>4198</td>\n",
       "      <td>145</td>\n",
       "      <td>161</td>\n",
       "      <td>All Levels</td>\n",
       "      <td>26 hours</td>\n",
       "      <td>2013-10-20T19:53:28Z</td>\n",
       "      <td>Web Development</td>\n",
       "    </tr>\n",
       "    <tr>\n",
       "      <th>2960</th>\n",
       "      <td>523312</td>\n",
       "      <td>Python Web Programming</td>\n",
       "      <td>True</td>\n",
       "      <td>100</td>\n",
       "      <td>1020</td>\n",
       "      <td>46</td>\n",
       "      <td>60</td>\n",
       "      <td>Beginner Level</td>\n",
       "      <td>6 hours</td>\n",
       "      <td>2015-07-01T21:46:36Z</td>\n",
       "      <td>Web Development</td>\n",
       "    </tr>\n",
       "    <tr>\n",
       "      <th>2962</th>\n",
       "      <td>1088656</td>\n",
       "      <td>Quantitative Trading Analysis with Python</td>\n",
       "      <td>True</td>\n",
       "      <td>50</td>\n",
       "      <td>256</td>\n",
       "      <td>17</td>\n",
       "      <td>49</td>\n",
       "      <td>All Levels</td>\n",
       "      <td>5.5 hours</td>\n",
       "      <td>2017-01-27T17:11:28Z</td>\n",
       "      <td>Business Finance</td>\n",
       "    </tr>\n",
       "    <tr>\n",
       "      <th>3013</th>\n",
       "      <td>970600</td>\n",
       "      <td>REST APIs with Flask and Python</td>\n",
       "      <td>True</td>\n",
       "      <td>110</td>\n",
       "      <td>5151</td>\n",
       "      <td>737</td>\n",
       "      <td>115</td>\n",
       "      <td>Intermediate Level</td>\n",
       "      <td>12.5 hours</td>\n",
       "      <td>2016-11-06T19:00:38Z</td>\n",
       "      <td>Web Development</td>\n",
       "    </tr>\n",
       "    <tr>\n",
       "      <th>3154</th>\n",
       "      <td>815482</td>\n",
       "      <td>Stock Technical Analysis with Python</td>\n",
       "      <td>True</td>\n",
       "      <td>50</td>\n",
       "      <td>409</td>\n",
       "      <td>35</td>\n",
       "      <td>46</td>\n",
       "      <td>All Levels</td>\n",
       "      <td>8 hours</td>\n",
       "      <td>2016-04-12T00:40:03Z</td>\n",
       "      <td>Business Finance</td>\n",
       "    </tr>\n",
       "    <tr>\n",
       "      <th>3272</th>\n",
       "      <td>938560</td>\n",
       "      <td>The Complete Ethical Hacking Course 2.0: Pytho...</td>\n",
       "      <td>True</td>\n",
       "      <td>195</td>\n",
       "      <td>7827</td>\n",
       "      <td>268</td>\n",
       "      <td>66</td>\n",
       "      <td>All Levels</td>\n",
       "      <td>11 hours</td>\n",
       "      <td>2016-09-26T15:08:29Z</td>\n",
       "      <td>Web Development</td>\n",
       "    </tr>\n",
       "    <tr>\n",
       "      <th>3460</th>\n",
       "      <td>76052</td>\n",
       "      <td>Try Django 1.9 | Build a Blog and Learn Python...</td>\n",
       "      <td>True</td>\n",
       "      <td>50</td>\n",
       "      <td>7407</td>\n",
       "      <td>172</td>\n",
       "      <td>147</td>\n",
       "      <td>All Levels</td>\n",
       "      <td>20 hours</td>\n",
       "      <td>2014-03-04T07:12:21Z</td>\n",
       "      <td>Web Development</td>\n",
       "    </tr>\n",
       "    <tr>\n",
       "      <th>3573</th>\n",
       "      <td>16646</td>\n",
       "      <td>Web Programming with Python</td>\n",
       "      <td>True</td>\n",
       "      <td>50</td>\n",
       "      <td>35267</td>\n",
       "      <td>217</td>\n",
       "      <td>53</td>\n",
       "      <td>All Levels</td>\n",
       "      <td>4 hours</td>\n",
       "      <td>2012-04-25T00:01:43Z</td>\n",
       "      <td>Web Development</td>\n",
       "    </tr>\n",
       "    <tr>\n",
       "      <th>3574</th>\n",
       "      <td>574082</td>\n",
       "      <td>Web Scraping with Python, Ruby &amp; import. io</td>\n",
       "      <td>True</td>\n",
       "      <td>75</td>\n",
       "      <td>973</td>\n",
       "      <td>50</td>\n",
       "      <td>46</td>\n",
       "      <td>All Levels</td>\n",
       "      <td>4.5 hours</td>\n",
       "      <td>2015-08-09T22:16:41Z</td>\n",
       "      <td>Web Development</td>\n",
       "    </tr>\n",
       "  </tbody>\n",
       "</table>\n",
       "</div>"
      ],
      "text/plain": [
       "      course_id                                       course_title  is_paid  \\\n",
       "216      599504  Advanced Scalable Python Web Development Using...     True   \n",
       "777       47963  Coding for Entrepreneurs: Learn Python, Django...     True   \n",
       "814      631128  Complete Python Web Course: Build 8 Python Web...     True   \n",
       "842      186096  Core: A Web App Reference Guide for Django, Py...     True   \n",
       "1400     394832  Fun and creative web engineering with Python a...    False   \n",
       "1932    1038538            Introduction to QGIS Python Programming     True   \n",
       "1969     902888          Investment Portfolio Analysis with Python     True   \n",
       "2294     391546        Learn Python and Django: Payment Processing     True   \n",
       "2295    1063722            Learn Python Django - A Hands-On Course     True   \n",
       "2341     546848  Learn to code in Python and learn Adobe Photos...     True   \n",
       "2906     368340    Professional Python Web Development Using Flask     True   \n",
       "2908    1035940  Professional RESTful API Design using Python F...     True   \n",
       "2929     270808                      Projects in Django and Python     True   \n",
       "2952    1170894  Python Algo Stock Trading: Automate Your Trading!     True   \n",
       "2953    1070886         Python Algo Trading: FX Trading with Oanda     True   \n",
       "2954    1196544   Python Algo Trading: Sentiment Trading with News     True   \n",
       "2955     822444  Python and Django Full Stack Web Developer Boo...     True   \n",
       "2956     477702  Python for Beginners: Python Programming Langu...     True   \n",
       "2957    1035472  Python for Finance: Investment Fundamentals & ...     True   \n",
       "2958     529828                     Python for Trading & Investing     True   \n",
       "2959      70640  Python Programming: Create an Digital Marketpl...     True   \n",
       "2960     523312                             Python Web Programming     True   \n",
       "2962    1088656          Quantitative Trading Analysis with Python     True   \n",
       "3013     970600                    REST APIs with Flask and Python     True   \n",
       "3154     815482               Stock Technical Analysis with Python     True   \n",
       "3272     938560  The Complete Ethical Hacking Course 2.0: Pytho...     True   \n",
       "3460      76052  Try Django 1.9 | Build a Blog and Learn Python...     True   \n",
       "3573      16646                        Web Programming with Python     True   \n",
       "3574     574082        Web Scraping with Python, Ruby & import. io     True   \n",
       "\n",
       "     price  num_subscribers  num_reviews  num_lectures               level  \\\n",
       "216    120             1299           56            71  Intermediate Level   \n",
       "777    195            23412          799           251          All Levels   \n",
       "814    110             7489          941           173          All Levels   \n",
       "842    195             2497           98           154          All Levels   \n",
       "1400  Free            10917          319            25          All Levels   \n",
       "1932    85              197           26            28      Beginner Level   \n",
       "1969    50              209           13            37          All Levels   \n",
       "2294    70            17714          198            23          All Levels   \n",
       "2295    50             1339           21            18      Beginner Level   \n",
       "2341    50             1132            1            29          All Levels   \n",
       "2906   120             3420          489           102      Beginner Level   \n",
       "2908   120              578           25            36  Intermediate Level   \n",
       "2929    60             1764           53            28          All Levels   \n",
       "2952    95             1165           21            41      Beginner Level   \n",
       "2953   200              453           42            33  Intermediate Level   \n",
       "2954   200              294           19            42          All Levels   \n",
       "2955   200            11832         1883           191          All Levels   \n",
       "2956   150             6153          125            84      Beginner Level   \n",
       "2957   195             3811          278           103          All Levels   \n",
       "2958    95              638           25            36          All Levels   \n",
       "2959   195             4198          145           161          All Levels   \n",
       "2960   100             1020           46            60      Beginner Level   \n",
       "2962    50              256           17            49          All Levels   \n",
       "3013   110             5151          737           115  Intermediate Level   \n",
       "3154    50              409           35            46          All Levels   \n",
       "3272   195             7827          268            66          All Levels   \n",
       "3460    50             7407          172           147          All Levels   \n",
       "3573    50            35267          217            53          All Levels   \n",
       "3574    75              973           50            46          All Levels   \n",
       "\n",
       "     content_duration   published_timestamp           subject  \n",
       "216          14 hours  2016-08-11T22:09:24Z   Web Development  \n",
       "777          45 hours  2013-04-08T00:46:14Z   Web Development  \n",
       "814          16 hours  2015-11-08T20:57:35Z   Web Development  \n",
       "842          26 hours  2014-05-29T00:58:43Z   Web Development  \n",
       "1400          2 hours  2015-06-09T19:51:50Z   Web Development  \n",
       "1932        3.5 hours  2016-12-22T00:11:22Z   Web Development  \n",
       "1969          7 hours  2016-07-13T21:40:32Z  Business Finance  \n",
       "2294        3.5 hours  2015-02-09T15:37:56Z   Web Development  \n",
       "2295          2 hours  2017-01-18T21:53:34Z   Web Development  \n",
       "2341          2 hours  2015-07-08T00:15:12Z    Graphic Design  \n",
       "2906       14.5 hours  2015-03-04T00:10:36Z   Web Development  \n",
       "2908        4.5 hours  2017-01-11T21:15:25Z   Web Development  \n",
       "2929        6.5 hours  2014-10-21T07:58:07Z   Web Development  \n",
       "2952        2.5 hours  2017-05-28T23:41:03Z  Business Finance  \n",
       "2953          3 hours  2017-03-14T00:39:45Z  Business Finance  \n",
       "2954          7 hours  2017-04-28T16:41:44Z  Business Finance  \n",
       "2955       31.5 hours  2017-02-24T18:40:55Z   Web Development  \n",
       "2956          5 hours  2015-06-14T18:18:57Z   Web Development  \n",
       "2957        6.5 hours  2017-03-30T22:17:09Z  Business Finance  \n",
       "2958          5 hours  2015-06-17T22:23:31Z  Business Finance  \n",
       "2959         26 hours  2013-10-20T19:53:28Z   Web Development  \n",
       "2960          6 hours  2015-07-01T21:46:36Z   Web Development  \n",
       "2962        5.5 hours  2017-01-27T17:11:28Z  Business Finance  \n",
       "3013       12.5 hours  2016-11-06T19:00:38Z   Web Development  \n",
       "3154          8 hours  2016-04-12T00:40:03Z  Business Finance  \n",
       "3272         11 hours  2016-09-26T15:08:29Z   Web Development  \n",
       "3460         20 hours  2014-03-04T07:12:21Z   Web Development  \n",
       "3573          4 hours  2012-04-25T00:01:43Z   Web Development  \n",
       "3574        4.5 hours  2015-08-09T22:16:41Z   Web Development  "
      ]
     },
     "execution_count": 99,
     "metadata": {},
     "output_type": "execute_result"
    }
   ],
   "source": [
    "# List out all the courses that are related with Python\n",
    "df[df.course_title.str.contains('Python', case = True)]"
   ]
  },
  {
   "cell_type": "code",
   "execution_count": 100,
   "metadata": {},
   "outputs": [
    {
     "name": "stderr",
     "output_type": "stream",
     "text": [
      "C:\\Users\\MARG\\AppData\\Local\\Temp\\ipykernel_30652\\3160570131.py:28: DeprecationWarning:\n",
      "\n",
      "Starting with ImageIO v3 the behavior of this function will switch to that of iio.v3.imread. To keep the current behavior (and make this warning disappear) use `import imageio.v2 as imageio` or call `imageio.v2.imread` directly.\n",
      "\n"
     ]
    },
    {
     "data": {
      "image/gif": "[encoded data removed]",
      "text/plain": [
       "<IPython.core.display.Image object>"
      ]
     },
     "metadata": {},
     "output_type": "display_data"
    }
   ],
   "source": [
    "# which subject has the maximum number of courses\n",
    "sub = df.subject.value_counts()\n",
    "\n",
    "# Create a directory for saving frames\n",
    "os.makedirs(\"frames\", exist_ok=True)\n",
    "\n",
    "# Number of steps for animation\n",
    "steps = 20\n",
    "frames = []\n",
    "for step in range(1, steps + 1):\n",
    "    plt.figure(figsize=(10, 6))\n",
    "    \n",
    "    # Scale the bar heights gradually\n",
    "    scaled_values = sub.values * (step / steps)\n",
    "    plt.bar(sub.index, scaled_values, color='skyblue')\n",
    "    \n",
    "    # Customize the plot\n",
    "    plt.title('Distribution of Courses by Subject', fontsize=16)\n",
    "    plt.xlabel('Subject', fontsize=14)\n",
    "    plt.ylabel('Number of Courses', fontsize=14)\n",
    "    plt.xticks(rotation=45)\n",
    "    plt.ylim(0, sub.max() * 1.1)  # Set consistent y-axis limit\n",
    "    plt.tight_layout()\n",
    "    \n",
    "    # Save the frame\n",
    "    filename = f\"frames/frame_{step}.png\"\n",
    "    plt.savefig(filename)\n",
    "    frames.append(imageio.imread(filename))\n",
    "    plt.close()\n",
    "\n",
    "# Create the GIF\n",
    "gif_path = \"subject_bar_chart_animation.gif\"\n",
    "imageio.mimsave(gif_path, frames, duration=0.2)  # 0.2 seconds per frame for smooth animation\n",
    "\n",
    "# Clean up the frames directory (optional)\n",
    "for frame in os.listdir(\"frames\"):\n",
    "    os.remove(os.path.join(\"frames\", frame))\n",
    "os.rmdir(\"frames\")\n",
    "\n",
    "# Display the GIF in the Jupyter Notebook\n",
    "display(Image(filename=gif_path))"
   ]
  },
  {
   "cell_type": "code",
   "execution_count": 101,
   "metadata": {},
   "outputs": [
    {
     "data": {
      "text/html": [
       "<div>\n",
       "<style scoped>\n",
       "    .dataframe tbody tr th:only-of-type {\n",
       "        vertical-align: middle;\n",
       "    }\n",
       "\n",
       "    .dataframe tbody tr th {\n",
       "        vertical-align: top;\n",
       "    }\n",
       "\n",
       "    .dataframe thead th {\n",
       "        text-align: right;\n",
       "    }\n",
       "</style>\n",
       "<table border=\"1\" class=\"dataframe\">\n",
       "  <thead>\n",
       "    <tr style=\"text-align: right;\">\n",
       "      <th></th>\n",
       "      <th>course_id</th>\n",
       "      <th>course_title</th>\n",
       "      <th>is_paid</th>\n",
       "      <th>price</th>\n",
       "      <th>num_subscribers</th>\n",
       "      <th>num_reviews</th>\n",
       "      <th>num_lectures</th>\n",
       "      <th>level</th>\n",
       "      <th>content_duration</th>\n",
       "      <th>published_timestamp</th>\n",
       "      <th>subject</th>\n",
       "    </tr>\n",
       "  </thead>\n",
       "  <tbody>\n",
       "    <tr>\n",
       "      <th>41</th>\n",
       "      <td>286070</td>\n",
       "      <td>5 lecciones que todo guitarrista debe tomar</td>\n",
       "      <td>False</td>\n",
       "      <td>Free</td>\n",
       "      <td>4452</td>\n",
       "      <td>263</td>\n",
       "      <td>14</td>\n",
       "      <td>Beginner Level</td>\n",
       "      <td>1 hour</td>\n",
       "      <td>2014-08-23T05:08:14Z</td>\n",
       "      <td>Musical Instruments</td>\n",
       "    </tr>\n",
       "    <tr>\n",
       "      <th>49</th>\n",
       "      <td>696630</td>\n",
       "      <td>7 Ways A Beginner Guitarist Can Sound Better, ...</td>\n",
       "      <td>False</td>\n",
       "      <td>Free</td>\n",
       "      <td>4529</td>\n",
       "      <td>193</td>\n",
       "      <td>7</td>\n",
       "      <td>Beginner Level</td>\n",
       "      <td>36 mins</td>\n",
       "      <td>2015-12-21T18:50:50Z</td>\n",
       "      <td>Musical Instruments</td>\n",
       "    </tr>\n",
       "    <tr>\n",
       "      <th>57</th>\n",
       "      <td>955914</td>\n",
       "      <td>A beginner`s guide to fingerpicking and strumm...</td>\n",
       "      <td>False</td>\n",
       "      <td>Free</td>\n",
       "      <td>3481</td>\n",
       "      <td>29</td>\n",
       "      <td>20</td>\n",
       "      <td>Beginner Level</td>\n",
       "      <td>2 hours</td>\n",
       "      <td>2016-09-13T21:51:59Z</td>\n",
       "      <td>Musical Instruments</td>\n",
       "    </tr>\n",
       "    <tr>\n",
       "      <th>67</th>\n",
       "      <td>270976</td>\n",
       "      <td>A how to guide in HTML</td>\n",
       "      <td>False</td>\n",
       "      <td>Free</td>\n",
       "      <td>7318</td>\n",
       "      <td>205</td>\n",
       "      <td>8</td>\n",
       "      <td>Beginner Level</td>\n",
       "      <td>35 mins</td>\n",
       "      <td>2014-08-10T20:19:10Z</td>\n",
       "      <td>Web Development</td>\n",
       "    </tr>\n",
       "    <tr>\n",
       "      <th>74</th>\n",
       "      <td>1214144</td>\n",
       "      <td>¡Triunfar en La Bolsa de Valores No Requiere d...</td>\n",
       "      <td>False</td>\n",
       "      <td>Free</td>\n",
       "      <td>338</td>\n",
       "      <td>7</td>\n",
       "      <td>6</td>\n",
       "      <td>Beginner Level</td>\n",
       "      <td>1 hour</td>\n",
       "      <td>2017-05-30T14:30:12Z</td>\n",
       "      <td>Business Finance</td>\n",
       "    </tr>\n",
       "    <tr>\n",
       "      <th>...</th>\n",
       "      <td>...</td>\n",
       "      <td>...</td>\n",
       "      <td>...</td>\n",
       "      <td>...</td>\n",
       "      <td>...</td>\n",
       "      <td>...</td>\n",
       "      <td>...</td>\n",
       "      <td>...</td>\n",
       "      <td>...</td>\n",
       "      <td>...</td>\n",
       "      <td>...</td>\n",
       "    </tr>\n",
       "    <tr>\n",
       "      <th>3620</th>\n",
       "      <td>552598</td>\n",
       "      <td>WordPress in under an hour - Create/manage you...</td>\n",
       "      <td>False</td>\n",
       "      <td>Free</td>\n",
       "      <td>6474</td>\n",
       "      <td>86</td>\n",
       "      <td>15</td>\n",
       "      <td>All Levels</td>\n",
       "      <td>1 hour</td>\n",
       "      <td>2015-07-15T00:21:56Z</td>\n",
       "      <td>Web Development</td>\n",
       "    </tr>\n",
       "    <tr>\n",
       "      <th>3638</th>\n",
       "      <td>1068590</td>\n",
       "      <td>Wordpress Website Mastery 2017</td>\n",
       "      <td>False</td>\n",
       "      <td>Free</td>\n",
       "      <td>5181</td>\n",
       "      <td>64</td>\n",
       "      <td>22</td>\n",
       "      <td>Beginner Level</td>\n",
       "      <td>2.5 hours</td>\n",
       "      <td>2017-01-18T17:01:40Z</td>\n",
       "      <td>Web Development</td>\n",
       "    </tr>\n",
       "    <tr>\n",
       "      <th>3652</th>\n",
       "      <td>752706</td>\n",
       "      <td>Write quicker HTML5 and CSS 3; productivity ha...</td>\n",
       "      <td>False</td>\n",
       "      <td>Free</td>\n",
       "      <td>13016</td>\n",
       "      <td>286</td>\n",
       "      <td>15</td>\n",
       "      <td>All Levels</td>\n",
       "      <td>1.5 hours</td>\n",
       "      <td>2016-03-03T17:45:31Z</td>\n",
       "      <td>Web Development</td>\n",
       "    </tr>\n",
       "    <tr>\n",
       "      <th>3674</th>\n",
       "      <td>1257976</td>\n",
       "      <td>Your First 10 Guitar Lessons - Learn how to pl...</td>\n",
       "      <td>False</td>\n",
       "      <td>Free</td>\n",
       "      <td>924</td>\n",
       "      <td>4</td>\n",
       "      <td>18</td>\n",
       "      <td>Beginner Level</td>\n",
       "      <td>1 hour</td>\n",
       "      <td>2017-06-29T00:29:36Z</td>\n",
       "      <td>Musical Instruments</td>\n",
       "    </tr>\n",
       "    <tr>\n",
       "      <th>3680</th>\n",
       "      <td>1225194</td>\n",
       "      <td>Zoho Books Gestion Financière d'Entreprise pas...</td>\n",
       "      <td>False</td>\n",
       "      <td>Free</td>\n",
       "      <td>229</td>\n",
       "      <td>0</td>\n",
       "      <td>33</td>\n",
       "      <td>All Levels</td>\n",
       "      <td>2 hours</td>\n",
       "      <td>2017-05-26T16:45:55Z</td>\n",
       "      <td>Business Finance</td>\n",
       "    </tr>\n",
       "  </tbody>\n",
       "</table>\n",
       "<p>310 rows × 11 columns</p>\n",
       "</div>"
      ],
      "text/plain": [
       "      course_id                                       course_title  is_paid  \\\n",
       "41       286070        5 lecciones que todo guitarrista debe tomar    False   \n",
       "49       696630  7 Ways A Beginner Guitarist Can Sound Better, ...    False   \n",
       "57       955914  A beginner`s guide to fingerpicking and strumm...    False   \n",
       "67       270976                             A how to guide in HTML    False   \n",
       "74      1214144  ¡Triunfar en La Bolsa de Valores No Requiere d...    False   \n",
       "...         ...                                                ...      ...   \n",
       "3620     552598  WordPress in under an hour - Create/manage you...    False   \n",
       "3638    1068590                     Wordpress Website Mastery 2017    False   \n",
       "3652     752706  Write quicker HTML5 and CSS 3; productivity ha...    False   \n",
       "3674    1257976  Your First 10 Guitar Lessons - Learn how to pl...    False   \n",
       "3680    1225194  Zoho Books Gestion Financière d'Entreprise pas...    False   \n",
       "\n",
       "     price  num_subscribers  num_reviews  num_lectures           level  \\\n",
       "41    Free             4452          263            14  Beginner Level   \n",
       "49    Free             4529          193             7  Beginner Level   \n",
       "57    Free             3481           29            20  Beginner Level   \n",
       "67    Free             7318          205             8  Beginner Level   \n",
       "74    Free              338            7             6  Beginner Level   \n",
       "...    ...              ...          ...           ...             ...   \n",
       "3620  Free             6474           86            15      All Levels   \n",
       "3638  Free             5181           64            22  Beginner Level   \n",
       "3652  Free            13016          286            15      All Levels   \n",
       "3674  Free              924            4            18  Beginner Level   \n",
       "3680  Free              229            0            33      All Levels   \n",
       "\n",
       "     content_duration   published_timestamp              subject  \n",
       "41             1 hour  2014-08-23T05:08:14Z  Musical Instruments  \n",
       "49            36 mins  2015-12-21T18:50:50Z  Musical Instruments  \n",
       "57            2 hours  2016-09-13T21:51:59Z  Musical Instruments  \n",
       "67            35 mins  2014-08-10T20:19:10Z      Web Development  \n",
       "74             1 hour  2017-05-30T14:30:12Z     Business Finance  \n",
       "...               ...                   ...                  ...  \n",
       "3620           1 hour  2015-07-15T00:21:56Z      Web Development  \n",
       "3638        2.5 hours  2017-01-18T17:01:40Z      Web Development  \n",
       "3652        1.5 hours  2016-03-03T17:45:31Z      Web Development  \n",
       "3674           1 hour  2017-06-29T00:29:36Z  Musical Instruments  \n",
       "3680          2 hours  2017-05-26T16:45:55Z     Business Finance  \n",
       "\n",
       "[310 rows x 11 columns]"
      ]
     },
     "execution_count": 101,
     "metadata": {},
     "output_type": "execute_result"
    }
   ],
   "source": [
    "# Show all the courses which are free of cost\n",
    "df[df.is_paid == False]"
   ]
  },
  {
   "cell_type": "code",
   "execution_count": 102,
   "metadata": {},
   "outputs": [
    {
     "data": {
      "text/html": [
       "<div>\n",
       "<style scoped>\n",
       "    .dataframe tbody tr th:only-of-type {\n",
       "        vertical-align: middle;\n",
       "    }\n",
       "\n",
       "    .dataframe tbody tr th {\n",
       "        vertical-align: top;\n",
       "    }\n",
       "\n",
       "    .dataframe thead th {\n",
       "        text-align: right;\n",
       "    }\n",
       "</style>\n",
       "<table border=\"1\" class=\"dataframe\">\n",
       "  <thead>\n",
       "    <tr style=\"text-align: right;\">\n",
       "      <th></th>\n",
       "      <th>course_id</th>\n",
       "      <th>course_title</th>\n",
       "      <th>is_paid</th>\n",
       "      <th>price</th>\n",
       "      <th>num_subscribers</th>\n",
       "      <th>num_reviews</th>\n",
       "      <th>num_lectures</th>\n",
       "      <th>level</th>\n",
       "      <th>content_duration</th>\n",
       "      <th>published_timestamp</th>\n",
       "      <th>subject</th>\n",
       "    </tr>\n",
       "  </thead>\n",
       "  <tbody>\n",
       "    <tr>\n",
       "      <th>0</th>\n",
       "      <td>288942</td>\n",
       "      <td>#1 Piano Hand Coordination: Play 10th Ballad i...</td>\n",
       "      <td>True</td>\n",
       "      <td>35</td>\n",
       "      <td>3137</td>\n",
       "      <td>18</td>\n",
       "      <td>68</td>\n",
       "      <td>All Levels</td>\n",
       "      <td>1.5 hours</td>\n",
       "      <td>2014-09-18T05:07:05Z</td>\n",
       "      <td>Musical Instruments</td>\n",
       "    </tr>\n",
       "    <tr>\n",
       "      <th>1</th>\n",
       "      <td>1170074</td>\n",
       "      <td>#10 Hand Coordination - Transfer Chord Ballad ...</td>\n",
       "      <td>True</td>\n",
       "      <td>75</td>\n",
       "      <td>1593</td>\n",
       "      <td>1</td>\n",
       "      <td>41</td>\n",
       "      <td>Intermediate Level</td>\n",
       "      <td>1 hour</td>\n",
       "      <td>2017-04-12T19:06:34Z</td>\n",
       "      <td>Musical Instruments</td>\n",
       "    </tr>\n",
       "    <tr>\n",
       "      <th>2</th>\n",
       "      <td>1193886</td>\n",
       "      <td>#12 Hand Coordination: Let your Hands dance wi...</td>\n",
       "      <td>True</td>\n",
       "      <td>75</td>\n",
       "      <td>482</td>\n",
       "      <td>1</td>\n",
       "      <td>47</td>\n",
       "      <td>Intermediate Level</td>\n",
       "      <td>1.5 hours</td>\n",
       "      <td>2017-04-26T18:34:57Z</td>\n",
       "      <td>Musical Instruments</td>\n",
       "    </tr>\n",
       "    <tr>\n",
       "      <th>3</th>\n",
       "      <td>1116700</td>\n",
       "      <td>#4 Piano Hand Coordination: Fun Piano Runs in ...</td>\n",
       "      <td>True</td>\n",
       "      <td>75</td>\n",
       "      <td>850</td>\n",
       "      <td>3</td>\n",
       "      <td>43</td>\n",
       "      <td>Intermediate Level</td>\n",
       "      <td>1 hour</td>\n",
       "      <td>2017-02-21T23:48:18Z</td>\n",
       "      <td>Musical Instruments</td>\n",
       "    </tr>\n",
       "    <tr>\n",
       "      <th>4</th>\n",
       "      <td>1120410</td>\n",
       "      <td>#5  Piano Hand Coordination:  Piano Runs in 2 ...</td>\n",
       "      <td>True</td>\n",
       "      <td>75</td>\n",
       "      <td>940</td>\n",
       "      <td>3</td>\n",
       "      <td>32</td>\n",
       "      <td>Intermediate Level</td>\n",
       "      <td>37 mins</td>\n",
       "      <td>2017-02-21T23:44:49Z</td>\n",
       "      <td>Musical Instruments</td>\n",
       "    </tr>\n",
       "    <tr>\n",
       "      <th>...</th>\n",
       "      <td>...</td>\n",
       "      <td>...</td>\n",
       "      <td>...</td>\n",
       "      <td>...</td>\n",
       "      <td>...</td>\n",
       "      <td>...</td>\n",
       "      <td>...</td>\n",
       "      <td>...</td>\n",
       "      <td>...</td>\n",
       "      <td>...</td>\n",
       "      <td>...</td>\n",
       "    </tr>\n",
       "    <tr>\n",
       "      <th>3676</th>\n",
       "      <td>498488</td>\n",
       "      <td>Your First Successful Forex Trades - With Case...</td>\n",
       "      <td>True</td>\n",
       "      <td>200</td>\n",
       "      <td>1079</td>\n",
       "      <td>34</td>\n",
       "      <td>16</td>\n",
       "      <td>All Levels</td>\n",
       "      <td>2.5 hours</td>\n",
       "      <td>2015-05-26T20:48:48Z</td>\n",
       "      <td>Business Finance</td>\n",
       "    </tr>\n",
       "    <tr>\n",
       "      <th>3677</th>\n",
       "      <td>328960</td>\n",
       "      <td>Your Own Site in 45 Min: The Complete Wordpres...</td>\n",
       "      <td>True</td>\n",
       "      <td>120</td>\n",
       "      <td>1566</td>\n",
       "      <td>29</td>\n",
       "      <td>36</td>\n",
       "      <td>All Levels</td>\n",
       "      <td>4 hours</td>\n",
       "      <td>2015-04-20T22:15:17Z</td>\n",
       "      <td>Web Development</td>\n",
       "    </tr>\n",
       "    <tr>\n",
       "      <th>3678</th>\n",
       "      <td>552700</td>\n",
       "      <td>Your Second Course on Piano: Two Handed Playing</td>\n",
       "      <td>True</td>\n",
       "      <td>70</td>\n",
       "      <td>1018</td>\n",
       "      <td>12</td>\n",
       "      <td>22</td>\n",
       "      <td>Beginner Level</td>\n",
       "      <td>5 hours</td>\n",
       "      <td>2015-10-26T20:04:21Z</td>\n",
       "      <td>Musical Instruments</td>\n",
       "    </tr>\n",
       "    <tr>\n",
       "      <th>3679</th>\n",
       "      <td>631754</td>\n",
       "      <td>Zend Framework 2: Learn the PHP framework ZF2 ...</td>\n",
       "      <td>True</td>\n",
       "      <td>40</td>\n",
       "      <td>723</td>\n",
       "      <td>130</td>\n",
       "      <td>37</td>\n",
       "      <td>All Levels</td>\n",
       "      <td>6.5 hours</td>\n",
       "      <td>2015-11-11T18:55:45Z</td>\n",
       "      <td>Web Development</td>\n",
       "    </tr>\n",
       "    <tr>\n",
       "      <th>3681</th>\n",
       "      <td>964478</td>\n",
       "      <td>Zombie Apocalypse Photoshop Actions</td>\n",
       "      <td>True</td>\n",
       "      <td>50</td>\n",
       "      <td>12</td>\n",
       "      <td>1</td>\n",
       "      <td>15</td>\n",
       "      <td>All Levels</td>\n",
       "      <td>1.5 hours</td>\n",
       "      <td>2016-09-26T22:19:48Z</td>\n",
       "      <td>Graphic Design</td>\n",
       "    </tr>\n",
       "  </tbody>\n",
       "</table>\n",
       "<p>3372 rows × 11 columns</p>\n",
       "</div>"
      ],
      "text/plain": [
       "      course_id                                       course_title  is_paid  \\\n",
       "0        288942  #1 Piano Hand Coordination: Play 10th Ballad i...     True   \n",
       "1       1170074  #10 Hand Coordination - Transfer Chord Ballad ...     True   \n",
       "2       1193886  #12 Hand Coordination: Let your Hands dance wi...     True   \n",
       "3       1116700  #4 Piano Hand Coordination: Fun Piano Runs in ...     True   \n",
       "4       1120410  #5  Piano Hand Coordination:  Piano Runs in 2 ...     True   \n",
       "...         ...                                                ...      ...   \n",
       "3676     498488  Your First Successful Forex Trades - With Case...     True   \n",
       "3677     328960  Your Own Site in 45 Min: The Complete Wordpres...     True   \n",
       "3678     552700    Your Second Course on Piano: Two Handed Playing     True   \n",
       "3679     631754  Zend Framework 2: Learn the PHP framework ZF2 ...     True   \n",
       "3681     964478                Zombie Apocalypse Photoshop Actions     True   \n",
       "\n",
       "     price  num_subscribers  num_reviews  num_lectures               level  \\\n",
       "0       35             3137           18            68          All Levels   \n",
       "1       75             1593            1            41  Intermediate Level   \n",
       "2       75              482            1            47  Intermediate Level   \n",
       "3       75              850            3            43  Intermediate Level   \n",
       "4       75              940            3            32  Intermediate Level   \n",
       "...    ...              ...          ...           ...                 ...   \n",
       "3676   200             1079           34            16          All Levels   \n",
       "3677   120             1566           29            36          All Levels   \n",
       "3678    70             1018           12            22      Beginner Level   \n",
       "3679    40              723          130            37          All Levels   \n",
       "3681    50               12            1            15          All Levels   \n",
       "\n",
       "     content_duration   published_timestamp              subject  \n",
       "0           1.5 hours  2014-09-18T05:07:05Z  Musical Instruments  \n",
       "1              1 hour  2017-04-12T19:06:34Z  Musical Instruments  \n",
       "2           1.5 hours  2017-04-26T18:34:57Z  Musical Instruments  \n",
       "3              1 hour  2017-02-21T23:48:18Z  Musical Instruments  \n",
       "4             37 mins  2017-02-21T23:44:49Z  Musical Instruments  \n",
       "...               ...                   ...                  ...  \n",
       "3676        2.5 hours  2015-05-26T20:48:48Z     Business Finance  \n",
       "3677          4 hours  2015-04-20T22:15:17Z      Web Development  \n",
       "3678          5 hours  2015-10-26T20:04:21Z  Musical Instruments  \n",
       "3679        6.5 hours  2015-11-11T18:55:45Z      Web Development  \n",
       "3681        1.5 hours  2016-09-26T22:19:48Z       Graphic Design  \n",
       "\n",
       "[3372 rows x 11 columns]"
      ]
     },
     "execution_count": 102,
     "metadata": {},
     "output_type": "execute_result"
    }
   ],
   "source": [
    "# show all courses which are paid\n",
    "df[df.is_paid == True]"
   ]
  },
  {
   "cell_type": "code",
   "execution_count": 103,
   "metadata": {},
   "outputs": [
    {
     "data": {
      "application/vnd.plotly.v1+json": {
       "config": {
        "plotlyServerURL": "https://plot.ly"
       },
       "data": [
        {
         "domain": {
          "x": [
           0,
           1
          ],
          "y": [
           0,
           1
          ]
         },
         "hole": 0.4,
         "hovertemplate": "label=%{label}<br>value=%{value}<extra></extra>",
         "labels": [
          true,
          false
         ],
         "legendgroup": "",
         "name": "",
         "showlegend": true,
         "textfont": {
          "size": 15
         },
         "textinfo": "percent",
         "textposition": "inside",
         "type": "pie",
         "values": [
          3372,
          310
         ]
        }
       ],
       "layout": {
        "legend": {
         "tracegroupgap": 0
        },
        "template": {
         "data": {
          "bar": [
           {
            "error_x": {
             "color": "#2a3f5f"
            },
            "error_y": {
             "color": "#2a3f5f"
            },
            "marker": {
             "line": {
              "color": "#E5ECF6",
              "width": 0.5
             },
             "pattern": {
              "fillmode": "overlay",
              "size": 10,
              "solidity": 0.2
             }
            },
            "type": "bar"
           }
          ],
          "barpolar": [
           {
            "marker": {
             "line": {
              "color": "#E5ECF6",
              "width": 0.5
             },
             "pattern": {
              "fillmode": "overlay",
              "size": 10,
              "solidity": 0.2
             }
            },
            "type": "barpolar"
           }
          ],
          "carpet": [
           {
            "aaxis": {
             "endlinecolor": "#2a3f5f",
             "gridcolor": "white",
             "linecolor": "white",
             "minorgridcolor": "white",
             "startlinecolor": "#2a3f5f"
            },
            "baxis": {
             "endlinecolor": "#2a3f5f",
             "gridcolor": "white",
             "linecolor": "white",
             "minorgridcolor": "white",
             "startlinecolor": "#2a3f5f"
            },
            "type": "carpet"
           }
          ],
          "choropleth": [
           {
            "colorbar": {
             "outlinewidth": 0,
             "ticks": ""
            },
            "type": "choropleth"
           }
          ],
          "contour": [
           {
            "colorbar": {
             "outlinewidth": 0,
             "ticks": ""
            },
            "colorscale": [
             [
              0,
              "#0d0887"
             ],
             [
              0.1111111111111111,
              "#46039f"
             ],
             [
              0.2222222222222222,
              "#7201a8"
             ],
             [
              0.3333333333333333,
              "#9c179e"
             ],
             [
              0.4444444444444444,
              "#bd3786"
             ],
             [
              0.5555555555555556,
              "#d8576b"
             ],
             [
              0.6666666666666666,
              "#ed7953"
             ],
             [
              0.7777777777777778,
              "#fb9f3a"
             ],
             [
              0.8888888888888888,
              "#fdca26"
             ],
             [
              1,
              "#f0f921"
             ]
            ],
            "type": "contour"
           }
          ],
          "contourcarpet": [
           {
            "colorbar": {
             "outlinewidth": 0,
             "ticks": ""
            },
            "type": "contourcarpet"
           }
          ],
          "heatmap": [
           {
            "colorbar": {
             "outlinewidth": 0,
             "ticks": ""
            },
            "colorscale": [
             [
              0,
              "#0d0887"
             ],
             [
              0.1111111111111111,
              "#46039f"
             ],
             [
              0.2222222222222222,
              "#7201a8"
             ],
             [
              0.3333333333333333,
              "#9c179e"
             ],
             [
              0.4444444444444444,
              "#bd3786"
             ],
             [
              0.5555555555555556,
              "#d8576b"
             ],
             [
              0.6666666666666666,
              "#ed7953"
             ],
             [
              0.7777777777777778,
              "#fb9f3a"
             ],
             [
              0.8888888888888888,
              "#fdca26"
             ],
             [
              1,
              "#f0f921"
             ]
            ],
            "type": "heatmap"
           }
          ],
          "heatmapgl": [
           {
            "colorbar": {
             "outlinewidth": 0,
             "ticks": ""
            },
            "colorscale": [
             [
              0,
              "#0d0887"
             ],
             [
              0.1111111111111111,
              "#46039f"
             ],
             [
              0.2222222222222222,
              "#7201a8"
             ],
             [
              0.3333333333333333,
              "#9c179e"
             ],
             [
              0.4444444444444444,
              "#bd3786"
             ],
             [
              0.5555555555555556,
              "#d8576b"
             ],
             [
              0.6666666666666666,
              "#ed7953"
             ],
             [
              0.7777777777777778,
              "#fb9f3a"
             ],
             [
              0.8888888888888888,
              "#fdca26"
             ],
             [
              1,
              "#f0f921"
             ]
            ],
            "type": "heatmapgl"
           }
          ],
          "histogram": [
           {
            "marker": {
             "pattern": {
              "fillmode": "overlay",
              "size": 10,
              "solidity": 0.2
             }
            },
            "type": "histogram"
           }
          ],
          "histogram2d": [
           {
            "colorbar": {
             "outlinewidth": 0,
             "ticks": ""
            },
            "colorscale": [
             [
              0,
              "#0d0887"
             ],
             [
              0.1111111111111111,
              "#46039f"
             ],
             [
              0.2222222222222222,
              "#7201a8"
             ],
             [
              0.3333333333333333,
              "#9c179e"
             ],
             [
              0.4444444444444444,
              "#bd3786"
             ],
             [
              0.5555555555555556,
              "#d8576b"
             ],
             [
              0.6666666666666666,
              "#ed7953"
             ],
             [
              0.7777777777777778,
              "#fb9f3a"
             ],
             [
              0.8888888888888888,
              "#fdca26"
             ],
             [
              1,
              "#f0f921"
             ]
            ],
            "type": "histogram2d"
           }
          ],
          "histogram2dcontour": [
           {
            "colorbar": {
             "outlinewidth": 0,
             "ticks": ""
            },
            "colorscale": [
             [
              0,
              "#0d0887"
             ],
             [
              0.1111111111111111,
              "#46039f"
             ],
             [
              0.2222222222222222,
              "#7201a8"
             ],
             [
              0.3333333333333333,
              "#9c179e"
             ],
             [
              0.4444444444444444,
              "#bd3786"
             ],
             [
              0.5555555555555556,
              "#d8576b"
             ],
             [
              0.6666666666666666,
              "#ed7953"
             ],
             [
              0.7777777777777778,
              "#fb9f3a"
             ],
             [
              0.8888888888888888,
              "#fdca26"
             ],
             [
              1,
              "#f0f921"
             ]
            ],
            "type": "histogram2dcontour"
           }
          ],
          "mesh3d": [
           {
            "colorbar": {
             "outlinewidth": 0,
             "ticks": ""
            },
            "type": "mesh3d"
           }
          ],
          "parcoords": [
           {
            "line": {
             "colorbar": {
              "outlinewidth": 0,
              "ticks": ""
             }
            },
            "type": "parcoords"
           }
          ],
          "pie": [
           {
            "automargin": true,
            "type": "pie"
           }
          ],
          "scatter": [
           {
            "fillpattern": {
             "fillmode": "overlay",
             "size": 10,
             "solidity": 0.2
            },
            "type": "scatter"
           }
          ],
          "scatter3d": [
           {
            "line": {
             "colorbar": {
              "outlinewidth": 0,
              "ticks": ""
             }
            },
            "marker": {
             "colorbar": {
              "outlinewidth": 0,
              "ticks": ""
             }
            },
            "type": "scatter3d"
           }
          ],
          "scattercarpet": [
           {
            "marker": {
             "colorbar": {
              "outlinewidth": 0,
              "ticks": ""
             }
            },
            "type": "scattercarpet"
           }
          ],
          "scattergeo": [
           {
            "marker": {
             "colorbar": {
              "outlinewidth": 0,
              "ticks": ""
             }
            },
            "type": "scattergeo"
           }
          ],
          "scattergl": [
           {
            "marker": {
             "colorbar": {
              "outlinewidth": 0,
              "ticks": ""
             }
            },
            "type": "scattergl"
           }
          ],
          "scattermapbox": [
           {
            "marker": {
             "colorbar": {
              "outlinewidth": 0,
              "ticks": ""
             }
            },
            "type": "scattermapbox"
           }
          ],
          "scatterpolar": [
           {
            "marker": {
             "colorbar": {
              "outlinewidth": 0,
              "ticks": ""
             }
            },
            "type": "scatterpolar"
           }
          ],
          "scatterpolargl": [
           {
            "marker": {
             "colorbar": {
              "outlinewidth": 0,
              "ticks": ""
             }
            },
            "type": "scatterpolargl"
           }
          ],
          "scatterternary": [
           {
            "marker": {
             "colorbar": {
              "outlinewidth": 0,
              "ticks": ""
             }
            },
            "type": "scatterternary"
           }
          ],
          "surface": [
           {
            "colorbar": {
             "outlinewidth": 0,
             "ticks": ""
            },
            "colorscale": [
             [
              0,
              "#0d0887"
             ],
             [
              0.1111111111111111,
              "#46039f"
             ],
             [
              0.2222222222222222,
              "#7201a8"
             ],
             [
              0.3333333333333333,
              "#9c179e"
             ],
             [
              0.4444444444444444,
              "#bd3786"
             ],
             [
              0.5555555555555556,
              "#d8576b"
             ],
             [
              0.6666666666666666,
              "#ed7953"
             ],
             [
              0.7777777777777778,
              "#fb9f3a"
             ],
             [
              0.8888888888888888,
              "#fdca26"
             ],
             [
              1,
              "#f0f921"
             ]
            ],
            "type": "surface"
           }
          ],
          "table": [
           {
            "cells": {
             "fill": {
              "color": "#EBF0F8"
             },
             "line": {
              "color": "white"
             }
            },
            "header": {
             "fill": {
              "color": "#C8D4E3"
             },
             "line": {
              "color": "white"
             }
            },
            "type": "table"
           }
          ]
         },
         "layout": {
          "annotationdefaults": {
           "arrowcolor": "#2a3f5f",
           "arrowhead": 0,
           "arrowwidth": 1
          },
          "autotypenumbers": "strict",
          "coloraxis": {
           "colorbar": {
            "outlinewidth": 0,
            "ticks": ""
           }
          },
          "colorscale": {
           "diverging": [
            [
             0,
             "#8e0152"
            ],
            [
             0.1,
             "#c51b7d"
            ],
            [
             0.2,
             "#de77ae"
            ],
            [
             0.3,
             "#f1b6da"
            ],
            [
             0.4,
             "#fde0ef"
            ],
            [
             0.5,
             "#f7f7f7"
            ],
            [
             0.6,
             "#e6f5d0"
            ],
            [
             0.7,
             "#b8e186"
            ],
            [
             0.8,
             "#7fbc41"
            ],
            [
             0.9,
             "#4d9221"
            ],
            [
             1,
             "#276419"
            ]
           ],
           "sequential": [
            [
             0,
             "#0d0887"
            ],
            [
             0.1111111111111111,
             "#46039f"
            ],
            [
             0.2222222222222222,
             "#7201a8"
            ],
            [
             0.3333333333333333,
             "#9c179e"
            ],
            [
             0.4444444444444444,
             "#bd3786"
            ],
            [
             0.5555555555555556,
             "#d8576b"
            ],
            [
             0.6666666666666666,
             "#ed7953"
            ],
            [
             0.7777777777777778,
             "#fb9f3a"
            ],
            [
             0.8888888888888888,
             "#fdca26"
            ],
            [
             1,
             "#f0f921"
            ]
           ],
           "sequentialminus": [
            [
             0,
             "#0d0887"
            ],
            [
             0.1111111111111111,
             "#46039f"
            ],
            [
             0.2222222222222222,
             "#7201a8"
            ],
            [
             0.3333333333333333,
             "#9c179e"
            ],
            [
             0.4444444444444444,
             "#bd3786"
            ],
            [
             0.5555555555555556,
             "#d8576b"
            ],
            [
             0.6666666666666666,
             "#ed7953"
            ],
            [
             0.7777777777777778,
             "#fb9f3a"
            ],
            [
             0.8888888888888888,
             "#fdca26"
            ],
            [
             1,
             "#f0f921"
            ]
           ]
          },
          "colorway": [
           "#636efa",
           "#EF553B",
           "#00cc96",
           "#ab63fa",
           "#FFA15A",
           "#19d3f3",
           "#FF6692",
           "#B6E880",
           "#FF97FF",
           "#FECB52"
          ],
          "font": {
           "color": "#2a3f5f"
          },
          "geo": {
           "bgcolor": "white",
           "lakecolor": "white",
           "landcolor": "#E5ECF6",
           "showlakes": true,
           "showland": true,
           "subunitcolor": "white"
          },
          "hoverlabel": {
           "align": "left"
          },
          "hovermode": "closest",
          "mapbox": {
           "style": "light"
          },
          "paper_bgcolor": "white",
          "plot_bgcolor": "#E5ECF6",
          "polar": {
           "angularaxis": {
            "gridcolor": "white",
            "linecolor": "white",
            "ticks": ""
           },
           "bgcolor": "#E5ECF6",
           "radialaxis": {
            "gridcolor": "white",
            "linecolor": "white",
            "ticks": ""
           }
          },
          "scene": {
           "xaxis": {
            "backgroundcolor": "#E5ECF6",
            "gridcolor": "white",
            "gridwidth": 2,
            "linecolor": "white",
            "showbackground": true,
            "ticks": "",
            "zerolinecolor": "white"
           },
           "yaxis": {
            "backgroundcolor": "#E5ECF6",
            "gridcolor": "white",
            "gridwidth": 2,
            "linecolor": "white",
            "showbackground": true,
            "ticks": "",
            "zerolinecolor": "white"
           },
           "zaxis": {
            "backgroundcolor": "#E5ECF6",
            "gridcolor": "white",
            "gridwidth": 2,
            "linecolor": "white",
            "showbackground": true,
            "ticks": "",
            "zerolinecolor": "white"
           }
          },
          "shapedefaults": {
           "line": {
            "color": "#2a3f5f"
           }
          },
          "ternary": {
           "aaxis": {
            "gridcolor": "white",
            "linecolor": "white",
            "ticks": ""
           },
           "baxis": {
            "gridcolor": "white",
            "linecolor": "white",
            "ticks": ""
           },
           "bgcolor": "#E5ECF6",
           "caxis": {
            "gridcolor": "white",
            "linecolor": "white",
            "ticks": ""
           }
          },
          "title": {
           "x": 0.05
          },
          "xaxis": {
           "automargin": true,
           "gridcolor": "white",
           "linecolor": "white",
           "ticks": "",
           "title": {
            "standoff": 15
           },
           "zerolinecolor": "white",
           "zerolinewidth": 2
          },
          "yaxis": {
           "automargin": true,
           "gridcolor": "white",
           "linecolor": "white",
           "ticks": "",
           "title": {
            "standoff": 15
           },
           "zerolinecolor": "white",
           "zerolinewidth": 2
          }
         }
        },
        "title": {
         "text": "Percentage of Paid vs Non paid courses"
        }
       }
      }
     },
     "metadata": {},
     "output_type": "display_data"
    }
   ],
   "source": [
    "# plot a graph to show the percentage of paid vs non paid courses\n",
    "\n",
    "is_paid = df.is_paid.value_counts()\n",
    "fig = px.pie(labels=is_paid.index, \n",
    "             values=is_paid.values,\n",
    "             title=\"Percentage of Paid vs Non paid courses\",\n",
    "             names=is_paid.index,\n",
    "             hole=0.4,)\n",
    " \n",
    "fig.update_traces(textposition='inside', textfont_size= 15, textinfo='percent')\n",
    " \n",
    "fig.show()\n"
   ]
  },
  {
   "cell_type": "code",
   "execution_count": 104,
   "metadata": {},
   "outputs": [
    {
     "data": {
      "text/plain": [
       "array(['Musical Instruments', 'Business Finance', 'Graphic Design',\n",
       "       'Web Development'], dtype=object)"
      ]
     },
     "execution_count": 104,
     "metadata": {},
     "output_type": "execute_result"
    }
   ],
   "source": [
    "#  What are all different subjects for which Udemy is offering courses?\n",
    "different_sub = df.subject.unique()\n",
    "different_sub"
   ]
  },
  {
   "cell_type": "code",
   "execution_count": 105,
   "metadata": {},
   "outputs": [
    {
     "name": "stderr",
     "output_type": "stream",
     "text": [
      "C:\\Users\\MARG\\AppData\\Local\\Temp\\ipykernel_30652\\222505211.py:6: FutureWarning:\n",
      "\n",
      "\n",
      "\n",
      "Passing `palette` without assigning `hue` is deprecated and will be removed in v0.14.0. Assign the `y` variable to `hue` and set `legend=False` for the same effect.\n",
      "\n",
      "\n"
     ]
    },
    {
     "data": {
      "image/png": "[encoded data removed]",
      "text/plain": [
       "<Figure size 1200x600 with 1 Axes>"
      ]
     },
     "metadata": {},
     "output_type": "display_data"
    }
   ],
   "source": [
    "# which are top selling course\n",
    "top_selling_course = df.sort_values('num_subscribers', ascending = False).head(20)\n",
    "\n",
    "# Create the bar plot\n",
    "plt.figure(figsize=(12, 6))\n",
    "sns.barplot(\n",
    "    x='num_subscribers',\n",
    "    y='course_title',\n",
    "    data=top_selling_course,\n",
    "    palette='viridis'\n",
    ")\n",
    "\n",
    "# Add titles and labels\n",
    "plt.title('Top 20 Selling Courses by Number of Subscribers', fontsize=14)\n",
    "plt.xlabel('Number of Subscribers', fontsize=14)\n",
    "plt.ylabel('Course Title', fontsize=14)\n",
    "\n",
    "# Display the plot\n",
    "plt.tight_layout()\n",
    "plt.show()"
   ]
  },
  {
   "cell_type": "code",
   "execution_count": 106,
   "metadata": {},
   "outputs": [
    {
     "name": "stderr",
     "output_type": "stream",
     "text": [
      "C:\\Users\\MARG\\AppData\\Local\\Temp\\ipykernel_30652\\2020876926.py:9: FutureWarning:\n",
      "\n",
      "\n",
      "\n",
      "Passing `palette` without assigning `hue` is deprecated and will be removed in v0.14.0. Assign the `y` variable to `hue` and set `legend=False` for the same effect.\n",
      "\n",
      "\n"
     ]
    },
    {
     "data": {
      "image/png": "[encoded data removed]",
      "text/plain": [
       "<Figure size 1200x800 with 1 Axes>"
      ]
     },
     "metadata": {},
     "output_type": "display_data"
    }
   ],
   "source": [
    "# what are least selling courses\n",
    "least_selling_courses = df.sort_values(\"num_subscribers\", ascending = True).head(20)\n",
    "least_selling_courses\n",
    "\n",
    "# As number of subscribers for first 20 is zero so we can Visualize the number of lectures (num_lectures) in the least-selling courses to explore the course structure.\n",
    "\n",
    "# Create a bar plot showing the number of lectures for these courses\n",
    "plt.figure(figsize=(12, 8))\n",
    "sns.barplot(\n",
    "    x='num_lectures',\n",
    "    y='course_title',\n",
    "    data=least_selling_courses,\n",
    "    palette='coolwarm'\n",
    ")\n",
    "\n",
    "# Add titles and labels\n",
    "plt.title('Number of Lectures in Top 20 Least Selling Courses', fontsize=14)\n",
    "plt.xlabel('Number of Lectures', fontsize=14)\n",
    "plt.ylabel('Course Title', fontsize=14)\n",
    "\n",
    "# Display the plot\n",
    "plt.tight_layout()\n",
    "plt.show()"
   ]
  },
  {
   "cell_type": "code",
   "execution_count": 107,
   "metadata": {},
   "outputs": [
    {
     "data": {
      "text/html": [
       "<div>\n",
       "<style scoped>\n",
       "    .dataframe tbody tr th:only-of-type {\n",
       "        vertical-align: middle;\n",
       "    }\n",
       "\n",
       "    .dataframe tbody tr th {\n",
       "        vertical-align: top;\n",
       "    }\n",
       "\n",
       "    .dataframe thead th {\n",
       "        text-align: right;\n",
       "    }\n",
       "</style>\n",
       "<table border=\"1\" class=\"dataframe\">\n",
       "  <thead>\n",
       "    <tr style=\"text-align: right;\">\n",
       "      <th></th>\n",
       "      <th>course_id</th>\n",
       "      <th>course_title</th>\n",
       "      <th>is_paid</th>\n",
       "      <th>price</th>\n",
       "      <th>num_subscribers</th>\n",
       "      <th>num_reviews</th>\n",
       "      <th>num_lectures</th>\n",
       "      <th>level</th>\n",
       "      <th>content_duration</th>\n",
       "      <th>published_timestamp</th>\n",
       "      <th>subject</th>\n",
       "    </tr>\n",
       "  </thead>\n",
       "  <tbody>\n",
       "  </tbody>\n",
       "</table>\n",
       "</div>"
      ],
      "text/plain": [
       "Empty DataFrame\n",
       "Columns: [course_id, course_title, is_paid, price, num_subscribers, num_reviews, num_lectures, level, content_duration, published_timestamp, subject]\n",
       "Index: []"
      ]
     },
     "execution_count": 107,
     "metadata": {},
     "output_type": "execute_result"
    }
   ],
   "source": [
    "# Show all courses of graphic design where the price is below 100\n",
    "df[(df.subject == \"Graphic Design\") & (df.price < '100')]"
   ]
  },
  {
   "cell_type": "code",
   "execution_count": 108,
   "metadata": {},
   "outputs": [
    {
     "data": {
      "application/vnd.plotly.v1+json": {
       "config": {
        "plotlyServerURL": "https://plot.ly"
       },
       "data": [
        {
         "hovertemplate": "<b>%{hovertext}</b><br><br>Course Level=Beginner Level<br>Number of Subscribers=%{x}<br>Price ($)=%{y}<br>Number of Reviews=%{marker.size}<extra></extra>",
         "hovertext": [
          "A how to guide in HTML",
          "Ajax  for Beginners: A Very Basic Introduction",
          "Angular Material - Quickstart",
          "Angular Tutorial For Beginners",
          "Become a HTML and CSS Developer - Build a Responsive Site",
          "Beginning Oracle WebLogic for Administrators",
          "Beginning Web development Learn the basics of HTML",
          "Benefits of Thinking Mobile First Future of Website Design",
          "Bootstrap For Beginners: A  Basic Introduction",
          "Build a Website in 30 Minutes",
          "Build and Deploy a LAMP server on AWS",
          "Build CRUD Application - PHP & Mysql",
          "Build Your First Website in 1 Week with HTML5 and CSS3",
          "Chrome Extensions : Develop 5 chrome extensions from scratch",
          "Coding for Entrepreneurs Basic",
          "Complete WooCommerce Plugin Tutorial For Wordpress 2017",
          "Core Concepts in HTML 5",
          "Core HTML How to get online quickly HTML to HTML5 ",
          "Create a Website from Scratch using HTML CSS step by step",
          "Create An HTML5 Video Player From Scratch",
          "Create Startup Landing Page with Viral Marketing Strategies",
          "Create Your Own Successful Online School To Sell Courses",
          "CSS and CSS3 For Absolute Beginners",
          "Css For Beginners",
          "Css Positioning For Absolute Beginners: A Basic Introduction",
          "Customizr - Learn WordPress with the ultimate creative theme",
          "DesktopServer : Install WordPress Locally  - Work Anywhere!",
          "Devtools 2017: The Basics of Chrome Developer Tools",
          "Discover HTML Essential guide to HTML how to create webpages",
          "Dive Into Docker: The Docker Course for Developers",
          "Docker for Developers - Newest Version 1.12 with Swarm Mode",
          "Earn Big Profits With Web Development, Simple and Easy!",
          "ES6 Javascript: The Complete Developer's Guide",
          "Essentials of JavaScript Practice Coding Exercises Tips",
          "ExpressJS Fundamentals",
          "Fix Google's New 'Not Secure' Warning with Let's Encrypt!",
          "Foundations of Front-End Web Development",
          "Fundamentals of Angular 2 Full Stack Design",
          "Getting Started as a Web Developer",
          "Getting Started with Angular 2+",
          "How To Create a Local Wordpress Environment",
          "How To Create A Real Estate Website With Wordpress 2017",
          "How to create Paypal and Credit card Payment Buttons",
          "How to Install WordPress From Scratch",
          "How To Make A Modern Wordpress BLOG 2017! Create Your Blog!",
          "How To Make A Web Page With No Code",
          "How to Make a Wordpress Website 2017",
          "How To Make an eCommerce Website With Wordpress 2017",
          "How to Set Up a Self-Hosted Wordpress Website in 30 Minutes",
          "How To Setup Web Hosting",
          "How to Start a WordPress Blog - Complete Beginners Guide!",
          "HTML & CSS From Scratch in 30 Days",
          "HTML and CSS Foundations",
          "HTML for Beginners",
          "HTML Made Simple For Beginners: Create a One Page Website",
          "Install WordPress on Computer using XAMPP",
          "Introduction to CSS Development",
          "Introduction to HTML",
          "Introduction to QGIS Python Programming",
          "Introduction to Voice Design with Amazon's Alexa",
          "JavaScript Basics Web Development Building Blocks",
          "Javascript Essentials",
          "Javascript for beginners",
          "JavaScript for beginners in 1 hour",
          "JavaScript for Beginning Web Developers",
          "JavaScript Introduction to Object Oriented JavaScript",
          "JavaScript programming: JavaScript for beginners",
          "JavaScript project Learn to create a memory Game and more",
          "JavaScript Promises: Applications in ES6 and AngularJS",
          "Joomla 3 - The Basics",
          "Joomla for Beginners - Learn how to build a website with CMS",
          "Joomla: Create a Joomla Website This Weekend With NO CODING!",
          "jQuery For Beginners : A Basic Introduction",
          "JSON For Beginners: A Very Basic Introduction",
          "JSON with Java APIs, jQuery and JSON REST Web Services",
          "Laravel Homestead",
          "Learn Angular 4 from Scratch",
          "Learn How To Build a Web Application Without Coding",
          "Learn HTML & CSS: How To Start Your Web Development Career",
          "Learn HTML And CSS From Scratch",
          "Learn HTML in 2 hours!",
          "Learn PHP Fundamentals From Scratch",
          "Learn Spring Security 4 Basics - Hands On",
          "Learn the Basics of Programming for Marketers",
          "Learn to Create Responsive Layouts in 30 Minutes",
          "Learn to Make an Animated Image Gallery using HTML5",
          "Learn To Program JavaScript (in ten easy steps)",
          "Learn to Setup Websites from Scratch",
          "Learn to Use jQuery UI Widgets",
          "Master the Basics of HTML5 & CSS3: Beginner Web Development",
          "Mastering Basic CSS Selectors.",
          "Modern Web Development with SASS, Gulp, NPM & Web Workflows",
          "MongooseJS Essentials - Learn MongoDB for Node.js",
          "PHP Essential How to create build Amazing websites with PHP",
          "Practical Understanding of PHP and MySQL",
          "PSD To a Creative Landing Page Using Twitter Bootstrap 3",
          "Quickstart AngularJS",
          "React vs Angular vs Vue.js by Example",
          "Ruby on Rails a Beginners Guide ",
          "SAP Crystal Reports with ASP.Net (Step by step)",
          "Sara Learns to Code.  Making an App from Scratch",
          "Sass Workflow",
          "Security for your WordPress site",
          "Simple And Easy: Wordpress For Beginners",
          "Spring Framework 4 And Dependency Injection For Beginners",
          "Step by Step Build Your Template by Bootstrap 4 from scratch",
          "The Full Stack Web Development",
          "Ultimate JavaScript Strings",
          "Web Design Creating websites from scratch",
          "Web Design How to Create a Website HTML CSS Bootstrap",
          "Web Development By Doing: HTML / CSS From Scratch",
          "Web Hosting Introduction: How to Publish Your Website Online",
          "Web Hosting Set Up and WordPress Installation For Beginners",
          "Wordpress Beginner Tutorial: Build Your First Website",
          "WordPress Domination #2: Leads & Scarcity",
          "Wordpress Website Mastery 2017",
          "XML For Absolute Beginners: Learn to create your own tags"
         ],
         "legendgroup": "Beginner Level",
         "marker": {
          "color": "#636efa",
          "size": [
           205,
           5,
           135,
           112,
           91,
           989,
           71,
           27,
           14,
           40,
           18,
           71,
           5924,
           85,
           279,
           183,
           19,
           33,
           95,
           1005,
           120,
           14,
           212,
           13,
           97,
           81,
           22,
           108,
           44,
           313,
           104,
           27,
           2709,
           115,
           914,
           24,
           300,
           43,
           241,
           401,
           163,
           32,
           6,
           56,
           137,
           20,
           137,
           43,
           261,
           242,
           85,
           64,
           15,
           336,
           50,
           150,
           415,
           212,
           26,
           1036,
           68,
           5590,
           57,
           56,
           416,
           59,
           223,
           21,
           52,
           411,
           7,
           386,
           165,
           27,
           87,
           110,
           522,
           311,
           689,
           240,
           235,
           1236,
           28,
           43,
           174,
           165,
           96,
           154,
           521,
           750,
           23,
           62,
           1106,
           30,
           217,
           546,
           4047,
           132,
           346,
           304,
           20,
           945,
           8,
           196,
           1220,
           15,
           453,
           117,
           64,
           29,
           2575,
           137,
           239,
           104,
           4,
           64,
           58
          ],
          "sizemode": "area",
          "sizeref": 21.5725,
          "symbol": "circle"
         },
         "mode": "markers",
         "name": "Beginner Level",
         "orientation": "h",
         "showlegend": true,
         "type": "scatter",
         "x": [
          7318,
          755,
          3766,
          5397,
          3894,
          9786,
          9832,
          14254,
          1186,
          5065,
          3571,
          4405,
          120291,
          3655,
          161029,
          7922,
          1532,
          10394,
          12882,
          32260,
          12974,
          2814,
          10890,
          1156,
          4797,
          4735,
          1640,
          4569,
          8711,
          6437,
          767,
          3073,
          13010,
          28125,
          21245,
          1437,
          8337,
          314,
          9833,
          6909,
          4306,
          3782,
          578,
          8415,
          6856,
          2214,
          2437,
          3493,
          8770,
          11758,
          3784,
          2697,
          1544,
          8592,
          3380,
          4290,
          15493,
          8371,
          197,
          6742,
          10179,
          47062,
          2071,
          2086,
          7785,
          7789,
          2215,
          6000,
          651,
          19909,
          583,
          18496,
          6293,
          1703,
          799,
          3883,
          8693,
          9364,
          15462,
          11533,
          5351,
          48650,
          216,
          11339,
          5301,
          11080,
          2721,
          21087,
          23669,
          26541,
          3933,
          502,
          21682,
          8067,
          12201,
          11666,
          64128,
          6958,
          13130,
          7484,
          402,
          20890,
          1096,
          5014,
          21147,
          2184,
          3119,
          3142,
          13920,
          5263,
          72932,
          5533,
          12563,
          6402,
          2362,
          5181,
          1945
         ],
         "xaxis": "x",
         "y": [
          "Free",
          "65",
          "Free",
          "Free",
          "Free",
          "Free",
          "95",
          "75",
          "55",
          "95",
          "Free",
          "Free",
          "Free",
          "Free",
          "Free",
          "Free",
          "75",
          "90",
          "75",
          "Free",
          "Free",
          "95",
          "75",
          "85",
          "65",
          "Free",
          "65",
          "Free",
          "85",
          "Free",
          "95",
          "90",
          "80",
          "80",
          "Free",
          "95",
          "Free",
          "95",
          "Free",
          "Free",
          "Free",
          "Free",
          "65",
          "Free",
          "Free",
          "Free",
          "Free",
          "Free",
          "Free",
          "Free",
          "Free",
          "75",
          "Free",
          "Free",
          "65",
          "Free",
          "Free",
          "Free",
          "85",
          "Free",
          "95",
          "Free",
          "75",
          "95",
          "75",
          "90",
          "55",
          "95",
          "75",
          "Free",
          "95",
          "Free",
          "65",
          "65",
          "95",
          "Free",
          "Free",
          "Free",
          "Free",
          "Free",
          "Free",
          "Free",
          "95",
          "55",
          "Free",
          "Free",
          "75",
          "Free",
          "Free",
          "Free",
          "Free",
          "95",
          "Free",
          "75",
          "Free",
          "Free",
          "Free",
          "Free",
          "Free",
          "Free",
          "60",
          "Free",
          "85",
          "Free",
          "Free",
          "80",
          "60",
          "Free",
          "75",
          "75",
          "Free",
          "Free",
          "Free",
          "Free",
          "95",
          "Free",
          "75"
         ],
         "yaxis": "y"
        },
        {
         "hovertemplate": "<b>%{hovertext}</b><br><br>Course Level=All Levels<br>Number of Subscribers=%{x}<br>Price ($)=%{y}<br>Number of Reviews=%{marker.size}<extra></extra>",
         "hovertext": [
          "Administering Microsoft SQL Server 2012 Databases - 70-462",
          "AJAX : Let's build a COOL project",
          "Amazon s3 Mastery - THE How-To' Guides For Amazon S3",
          "AngularJS Authentication: Secure Your App with Auth0",
          "AngularJS Custom Directives with Dan Wahlin",
          "AngularJS For Beginners",
          "AngularJS JumpStart with Dan Wahlin",
          "Backbone Tutorial: Learn Backbonejs from Scratch",
          "Beginner Photoshop to HTML5 and CSS3",
          "Bootstrap 4 Quick Start: Code Modern Responsive Websites",
          "Bootstrap 4: Exploring New Features",
          "Bootstrap Basics: Program Responsive Websites",
          "Build a Complete Registration and Login System using PHP MVC",
          "Build a Responsive Website with a Modern Flat Design",
          "Build Realtime Apps | React Js, Golang & RethinkDB",
          "Build Responsive Website Using HTML5, CSS3, JS And Bootstrap",
          "Build Responsive Websites  in an Hour using Portalfin",
          "Build Your Own Membership Website With Joomla",
          "Building a Search Engine in PHP & MySQL",
          "Building An E-Commerce Store Using Java Spring Framework",
          "Building Responsive Data Visualizations with D3 JS",
          "Building Web Applications with Spring MVC",
          "Code a 'Coming Soon' Landing Page in Bootstrap 4",
          "Complete Bootstrap 4 course - build 3 projects",
          "Create A Custom Responsive WordPress Website For A Client",
          "Create a Membership Site with Wishlist Member & Wordpress",
          "Create a Powerful Website with the Cool Bootstrap Framework",
          "Create a Professional Website Without Programming/Coding",
          "Create a Responsive Business Website with WordPress",
          "Create a Simple Photo Gallery with Dropzonejs, Slick and PHP",
          "Create Fast RESTful APIs with Lumen and Homestead by Laravel",
          "Creating FaceBook Design Using Bootstrap - Handson Project",
          "Critical Web Dev Skills & Tools for the Non-Tech Hustler",
          "CSS Image filters - The modern web images color manipulation",
          "Drupal 8 Site Building",
          "EMMET Faster HTML & CSS workflow - Best Tool For Developers ",
          "For Free - Deploy Quickly Spring Boot on Heroku With MySQL",
          "Full-Stack Web Apps with Meteor and React",
          "Fun and creative web engineering with Python and Web2py",
          "Get Results - Core Principles of Web Development Tricks Tips",
          "Getting Started with Magento",
          "GRUNT js: Automate web development tasks and save your time",
          "How To Build And Make A Wordpress Website From Scratch 2017",
          "How to Build Your Own Website with WordPress: A Step-by-Step Guide ",
          "How to Create A Website: An HTML Tutorial and CSS Tutorial",
          "How to Make a Single Page Website for Freelancers & Agencies",
          "How to Make a Video Blog Website From Scratch w/ Wordpress ",
          "How to Make a Wordpress Website 2017",
          "How to Make an Online Portfolio Website from Scratch ",
          "HTML & CSS - Learn to build sleek websites ",
          "HTML 5 and CSS 3 - tricks and workarounds",
          "HTML and CSS for Absolute Beginners",
          "HTML and CSS for Beginners - Build a Website & Launch ONLINE",
          "HTML Complete Course - Beginner to Expert",
          "HTML Introduction Course: Learn HTML in 2 hours!!!",
          "HTML5 Geolocation in Depth:Build 7 HTML5 Geolocation Apps",
          "Implementing a Data Warehouse with SQL Server 2012 ",
          "Interaction Design Specialist For Web Developers",
          "Introduction to Laravel 4",
          "JavaScript DOM Dynamic Web interactive content Boot Camp",
          "JavaScript For Absolute Beginners - Level One",
          "JavaScript Fundamentals",
          "JavaScript Game Development: Create Your Own Breakout Game",
          "JavaScript High Performance",
          "JavaScript HTML CSS Project make a Quiz Tutorial",
          "JavaScript Rockstar How to create Incredible Useful code",
          "JavaScript Tricks how to create code projects from scratch",
          "Kali Linux Web App Testing",
          "Laravel Blog Development Starter",
          "Learn  Bootstrap Development By Building 10 Projects",
          "Learn Bootstrap 4 by Example",
          "Learn Bootstrap3 With Multi Purposes Single Page Layout",
          "Learn Complete WordPress for Building a Professional Sites",
          "Learn Drupal 8 - With a Live Project",
          "Learn E-Commerce Website in PHP & MySQL From Scratch!",
          "Learn How To Build A Professional Web Site By Using Joomla",
          "Learn how to quickly build websites using Wordpress",
          "Learn how to use Javascript Components with PHP and Symfony",
          "Learn HTML Basics From Scratch",
          "Learn HTML5 Programming From Scratch",
          "Learn JavaScript From Scratch:Become Top Rated Web Developer",
          "Learn OAuth 2.0 - Get started as an API Security Expert",
          "Learn Object Oriented PHP By Building a Complete Website",
          "Learn PHP CodeIgniter Framework with AJAX and Bootstrap",
          "Learn Plugin Development in WordPress By Building  Projects",
          "Learn Python and Django: Payment Processing",
          "Learn Responsive Web Development from Scratch",
          "Learn Ruby on Rails By Building Projects",
          "Learn SASS and improve your CSS",
          "Learn SVG Animation - With HTML, CSS & Javascript",
          "Learn to Build Websites using Twitter Bootstrap",
          "Learn To Create WordPress Themes By Building 10 Projects",
          "Learn to make an HTML 5 website with a video background",
          "Learn Top Ten PHP FrameWorks By Building Projects",
          "Learn Web Designing & HTML5/CSS3 Essentials in 4-Hours",
          "Learn Web Designing & HTML5/CSS3 Essentials in 4-Hours",
          "Learn Web Scraping with Node.js",
          "Learn Wordpress 4 from Scratch : Create Awesome Websites",
          "Learning Axure RP",
          "Master ECMAScript 2015 (ES6)",
          "Master Regular Expressions from scratch - All languages",
          "Master Typescript : Learn Typescript from scratch",
          "Master WordPress Plugins: Shortcodes Ultimate - The Basics",
          "Mastering HTML5 Programming - The Easier Way",
          "Mastering Magento",
          "Mastering Thymeleaf with Spring",
          "Pimcore Developer: Implement a Blog from a Bootstrap Theme",
          "Practical CSS Website Development: Crash Course ",
          "Practical PHP: Master the Basics and Code Dynamic Websites",
          "Projects in CSS",
          "Projects in Django and Python",
          "Projects In JavaScript & JQuery",
          "Projects in PHP and MySQL",
          "PSD to HTML5/CSS3 using Twitter Bootstrap 3! ",
          "Querying Microsoft SQL Server 2012 - (Exam No. 70-461)",
          "React JS and Redux - Mastering Web Apps",
          "React VR - Creating Virtual Reality Apps",
          "React: Learn ReactJS Fundamentals for Front-End Developers",
          "ReactJS and Flux: Learn By Building 10 Projects",
          "Responsive Design with NEW Materialize",
          "Responsive PHP Registration Form: From Scratch",
          "REST WCF Service in ASP.NET",
          "RESTful Services with ASP.NET Web API",
          "Rock Solid Wordpress Security - Secure Web Development",
          "Ruby on Rails: Training and Skills to Build Web Applications",
          "Spring Framework 4 (Java Enterprise JEE) with AngularJS",
          "Start Web Development with GIS Map in JavaScript",
          "Superb jQuery Course - Become Certified jQuery Developer",
          "The All-In-One Web Development Course",
          "The Complete HMTL5 Course - Go From Beginner To Advanced!",
          "The Complete HTML and CSS Course For Beginners",
          "The complete JavaScript developer: MEAN stack zero-to-hero",
          "The Sass Course! Learn Sass for Real-World Websites",
          "Ultimate CSS3 Course - From Beginners To Professional",
          "Up and Running with jQuery",
          "Vue JS - Mastering Web Apps",
          "Web Design for Web Developers: Build Beautiful Websites!",
          "Web Development Essential Skills - Complete HTML and CSS",
          "Web Scraping with Python, Ruby & import. io",
          "Webpack 2: The Complete Developer's Guide",
          "Wordpress Backup & Restore",
          "WordPress Development Crash Course: From Zero To Hero",
          "WordPress Development For Beginners",
          "WordPress in under an hour - Create/manage your own website!",
          "WordPress local server setup and site migration online",
          "Wordpress Security",
          "WordPress Security - The Ultimate Security Guide",
          "Write PHP Like a Pro: Build a PHP MVC Framework From Scratch",
          "Write quicker HTML5 and CSS 3; productivity hacks with emmet"
         ],
         "legendgroup": "All Levels",
         "marker": {
          "color": "#EF553B",
          "size": [
           65,
           292,
           118,
           1080,
           434,
           1948,
           2144,
           634,
           1716,
           2104,
           38,
           393,
           50,
           354,
           482,
           783,
           42,
           9,
           379,
           589,
           59,
           48,
           473,
           241,
           89,
           39,
           41,
           93,
           73,
           17,
           105,
           20,
           8,
           53,
           23,
           1097,
           19,
           531,
           319,
           54,
           88,
           33,
           166,
           15,
           260,
           283,
           163,
           235,
           232,
           14,
           10,
           52,
           5660,
           615,
           368,
           72,
           148,
           37,
           411,
           43,
           80,
           71,
           314,
           28,
           39,
           51,
           31,
           48,
           138,
           1358,
           54,
           146,
           92,
           15,
           1342,
           22,
           406,
           4,
           52,
           8629,
           17,
           283,
           2618,
           52,
           121,
           198,
           2692,
           79,
           29,
           680,
           523,
           384,
           18,
           96,
           525,
           525,
           137,
           8,
           103,
           441,
           27,
           45,
           110,
           138,
           101,
           161,
           15,
           35,
           4598,
           216,
           53,
           620,
           570,
           24,
           89,
           820,
           72,
           55,
           258,
           88,
           9,
           561,
           59,
           92,
           219,
           318,
           26,
           6,
           13,
           15,
           104,
           983,
           141,
           25,
           138,
           215,
           6512,
           11,
           50,
           1893,
           37,
           8,
           210,
           86,
           43,
           26,
           17,
           435,
           286
          ],
          "sizemode": "area",
          "sizeref": 21.5725,
          "symbol": "circle"
         },
         "mode": "markers",
         "name": "All Levels",
         "orientation": "h",
         "showlegend": true,
         "type": "scatter",
         "x": [
          586,
          4183,
          1811,
          21689,
          4128,
          30531,
          17802,
          4957,
          73110,
          41478,
          5022,
          4743,
          325,
          16527,
          3854,
          22623,
          2859,
          1134,
          10110,
          2743,
          876,
          714,
          13535,
          7865,
          7517,
          557,
          7142,
          5421,
          1659,
          2464,
          1157,
          4616,
          3118,
          6315,
          1942,
          26697,
          177,
          3295,
          10917,
          22355,
          608,
          1534,
          7055,
          4675,
          3012,
          17463,
          12952,
          12293,
          14026,
          1552,
          2007,
          4410,
          70773,
          20073,
          7304,
          1526,
          1142,
          8594,
          9110,
          7380,
          713,
          4409,
          10179,
          458,
          7130,
          16590,
          15106,
          876,
          4499,
          14813,
          5542,
          4503,
          13708,
          2012,
          29990,
          7184,
          15715,
          1822,
          5004,
          268923,
          2570,
          2185,
          36322,
          1634,
          1313,
          17714,
          59639,
          1736,
          1849,
          12953,
          15134,
          2273,
          1236,
          1007,
          43285,
          43285,
          16731,
          2023,
          631,
          7438,
          1925,
          424,
          10780,
          21653,
          1063,
          942,
          1212,
          11170,
          83737,
          4689,
          1764,
          9109,
          10606,
          2073,
          666,
          16829,
          5026,
          1993,
          1723,
          12629,
          5738,
          7905,
          716,
          5052,
          9375,
          5177,
          1599,
          817,
          538,
          2430,
          733,
          4820,
          975,
          2635,
          3324,
          13457,
          98867,
          1388,
          973,
          8964,
          478,
          1699,
          23572,
          6474,
          3801,
          2888,
          2267,
          1703,
          13016
         ],
         "xaxis": "x",
         "y": [
          "60",
          "70",
          "95",
          "Free",
          "75",
          "Free",
          "75",
          "90",
          "Free",
          "Free",
          "75",
          "75",
          "80",
          "Free",
          "60",
          "95",
          "Free",
          "95",
          "Free",
          "95",
          "85",
          "85",
          "Free",
          "Free",
          "95",
          "95",
          "Free",
          "Free",
          "95",
          "Free",
          "60",
          "80",
          "Free",
          "Free",
          "Free",
          "Free",
          "95",
          "85",
          "Free",
          "75",
          "85",
          "55",
          "Free",
          "95",
          "65",
          "Free",
          "Free",
          "Free",
          "Free",
          "55",
          "80",
          "Free",
          "Free",
          "Free",
          "Free",
          "90",
          "85",
          "95",
          "Free",
          "75",
          "65",
          "Free",
          "Free",
          "95",
          "95",
          "75",
          "75",
          "75",
          "Free",
          "60",
          "Free",
          "Free",
          "80",
          "55",
          "Free",
          "70",
          "Free",
          "90",
          "Free",
          "Free",
          "65",
          "95",
          "Free",
          "75",
          "60",
          "70",
          "Free",
          "60",
          "55",
          "65",
          "Free",
          "60",
          "80",
          "60",
          "75",
          "75",
          "75",
          "75",
          "75",
          "Free",
          "70",
          "95",
          "Free",
          "75",
          "85",
          "75",
          "95",
          "95",
          "Free",
          "60",
          "60",
          "60",
          "60",
          "95",
          "85",
          "60",
          "80",
          "55",
          "60",
          "75",
          "95",
          "Free",
          "85",
          "Free",
          "95",
          "95",
          "60",
          "95",
          "85",
          "95",
          "85",
          "75",
          "95",
          "95",
          "Free",
          "80",
          "Free",
          "95",
          "75",
          "75",
          "95",
          "60",
          "95",
          "Free",
          "55",
          "95",
          "60",
          "70",
          "Free"
         ],
         "yaxis": "y"
        },
        {
         "hovertemplate": "<b>%{hovertext}</b><br><br>Course Level=Expert Level<br>Number of Subscribers=%{x}<br>Price ($)=%{y}<br>Number of Reviews=%{marker.size}<extra></extra>",
         "hovertext": [
          "Advance Unix : File Processing: AWK | SED | GREP | CUT | VIM",
          "Advanced Node.js Development",
          "Introduction to Node.js Development",
          "JavaScript Design Patterns: 20 Patterns for Expert Code",
          "Mastering AngularJS UI Development",
          "Mastering CSS",
          "Mastering JavaScript",
          "Mastering Meteor: Reactive Full Stack JavaScript",
          "Mastering TypeScript"
         ],
         "legendgroup": "Expert Level",
         "marker": {
          "color": "#00cc96",
          "size": [
           40,
           32,
           48,
           243,
           26,
           249,
           39,
           46,
           34
          ],
          "sizemode": "area",
          "sizeref": 21.5725,
          "symbol": "circle"
         },
         "mode": "markers",
         "name": "Expert Level",
         "orientation": "h",
         "showlegend": true,
         "type": "scatter",
         "x": [
          578,
          2565,
          1779,
          2789,
          464,
          1815,
          694,
          494,
          353
         ],
         "xaxis": "x",
         "y": [
          "75",
          "55",
          "55",
          "95",
          "95",
          "95",
          "95",
          "95",
          "95"
         ],
         "yaxis": "y"
        },
        {
         "hovertemplate": "<b>%{hovertext}</b><br><br>Course Level=Intermediate Level<br>Number of Subscribers=%{x}<br>Price ($)=%{y}<br>Number of Reviews=%{marker.size}<extra></extra>",
         "hovertext": [
          "Advanced WordPress Topics: Post Types Taxonomies & Metaboxes",
          "Angular 2 Routing: Up And Running",
          "Angularjs-WebApi2-EFCodeFirst Web App On 3-Tier Architecture",
          "ASP.Net MVC Quick Start",
          "Become a Full Stack Developer with Spring, AWS and Stripe",
          "Build a Single Page Application with jQuery & AJAX",
          "Build an Advanced Single Page with Bootstrap & WordPress",
          "Building a ASP.NET MVC 5 Membership Website",
          "Building a Ruby on Rails Application with Neo4j",
          "Building Responsive Websites with Bootstrap 3 Framework",
          "Complete JQuery And JQuery UI Course For Beginner",
          "Complete Web Development with HTML, CSS and Javascript",
          "Create Website from scratch in Urdu & Hindi",
          "Django + AngularJS for a Powerful Web Application",
          "ES6 / EcmaScript 6 for beginners an introduction",
          "Flask Tutorial Step by Step",
          "Google Blogger Course",
          "How to Safely Copy and Move Your WordPress Website",
          "HTTP Clients with Laravel: Use and Consume Services and APIs",
          "Improved SEO with Rich Snippets and MicroData",
          "Introduction to Elm",
          "Laravel Deployment - Launch your Laravel Application Online",
          "Learn by Doing: Vue JS 2.0 the Right Way",
          "Learn how to create a WordPress theme using Pinegrow",
          "Learn JavaScript for Web Development",
          "Learn JSON with JavaScript Objects and APIs in 1 hour",
          "Learn Spring Security 4 Intermediate - Hands On",
          "Learn what's new in PHP 7",
          "Learning Object-Oriented JavaScript",
          "Mastering CSS 3.0 Selectors",
          "Optimizing Wordpress for More Speed and Revenue",
          "Projects in HTML5",
          "Reactive JS:  Are you ready for the next big paradigm shift?",
          "Ready for Production with Spring Boot Actuator",
          "Redux in Angular (2 and 4+)",
          "Serverless Architecture on Amazon Web Services",
          "Serverless Workflow Management with AWS Step Functions",
          "Web Development w/ Google’s Go (golang) Programming Language",
          "WordPress Backup And Restore Fundamentals"
         ],
         "legendgroup": "Intermediate Level",
         "marker": {
          "color": "#ab63fa",
          "size": [
           44,
           84,
           48,
           1234,
           193,
           59,
           75,
           86,
           38,
           14,
           277,
           16,
           91,
           59,
           19,
           171,
           11,
           38,
           22,
           228,
           28,
           101,
           220,
           152,
           220,
           93,
           16,
           271,
           54,
           63,
           16,
           206,
           401,
           26,
           16,
           978,
           173,
           662,
           131
          ],
          "sizemode": "area",
          "sizeref": 21.5725,
          "symbol": "circle"
         },
         "mode": "markers",
         "name": "Intermediate Level",
         "orientation": "h",
         "showlegend": true,
         "type": "scatter",
         "x": [
          301,
          3357,
          652,
          15092,
          1696,
          486,
          481,
          654,
          4830,
          1322,
          7169,
          2097,
          3033,
          4463,
          3227,
          4645,
          1343,
          1419,
          237,
          11026,
          1519,
          4905,
          1087,
          11812,
          12893,
          3619,
          227,
          12336,
          533,
          4115,
          2649,
          8777,
          2097,
          361,
          909,
          13210,
          8768,
          4872,
          13242
         ],
         "xaxis": "x",
         "y": [
          "95",
          "Free",
          "60",
          "Free",
          "75",
          "60",
          "95",
          "95",
          "Free",
          "75",
          "80",
          "Free",
          "Free",
          "95",
          "Free",
          "Free",
          "60",
          "60",
          "65",
          "Free",
          "Free",
          "Free",
          "95",
          "Free",
          "75",
          "95",
          "95",
          "Free",
          "75",
          "Free",
          "Free",
          "60",
          "60",
          "55",
          "70",
          "Free",
          "Free",
          "65",
          "Free"
         ],
         "yaxis": "y"
        }
       ],
       "layout": {
        "height": 600,
        "legend": {
         "itemsizing": "constant",
         "title": {
          "text": "Course Level"
         },
         "tracegroupgap": 0
        },
        "template": {
         "data": {
          "bar": [
           {
            "error_x": {
             "color": "#2a3f5f"
            },
            "error_y": {
             "color": "#2a3f5f"
            },
            "marker": {
             "line": {
              "color": "#E5ECF6",
              "width": 0.5
             },
             "pattern": {
              "fillmode": "overlay",
              "size": 10,
              "solidity": 0.2
             }
            },
            "type": "bar"
           }
          ],
          "barpolar": [
           {
            "marker": {
             "line": {
              "color": "#E5ECF6",
              "width": 0.5
             },
             "pattern": {
              "fillmode": "overlay",
              "size": 10,
              "solidity": 0.2
             }
            },
            "type": "barpolar"
           }
          ],
          "carpet": [
           {
            "aaxis": {
             "endlinecolor": "#2a3f5f",
             "gridcolor": "white",
             "linecolor": "white",
             "minorgridcolor": "white",
             "startlinecolor": "#2a3f5f"
            },
            "baxis": {
             "endlinecolor": "#2a3f5f",
             "gridcolor": "white",
             "linecolor": "white",
             "minorgridcolor": "white",
             "startlinecolor": "#2a3f5f"
            },
            "type": "carpet"
           }
          ],
          "choropleth": [
           {
            "colorbar": {
             "outlinewidth": 0,
             "ticks": ""
            },
            "type": "choropleth"
           }
          ],
          "contour": [
           {
            "colorbar": {
             "outlinewidth": 0,
             "ticks": ""
            },
            "colorscale": [
             [
              0,
              "#0d0887"
             ],
             [
              0.1111111111111111,
              "#46039f"
             ],
             [
              0.2222222222222222,
              "#7201a8"
             ],
             [
              0.3333333333333333,
              "#9c179e"
             ],
             [
              0.4444444444444444,
              "#bd3786"
             ],
             [
              0.5555555555555556,
              "#d8576b"
             ],
             [
              0.6666666666666666,
              "#ed7953"
             ],
             [
              0.7777777777777778,
              "#fb9f3a"
             ],
             [
              0.8888888888888888,
              "#fdca26"
             ],
             [
              1,
              "#f0f921"
             ]
            ],
            "type": "contour"
           }
          ],
          "contourcarpet": [
           {
            "colorbar": {
             "outlinewidth": 0,
             "ticks": ""
            },
            "type": "contourcarpet"
           }
          ],
          "heatmap": [
           {
            "colorbar": {
             "outlinewidth": 0,
             "ticks": ""
            },
            "colorscale": [
             [
              0,
              "#0d0887"
             ],
             [
              0.1111111111111111,
              "#46039f"
             ],
             [
              0.2222222222222222,
              "#7201a8"
             ],
             [
              0.3333333333333333,
              "#9c179e"
             ],
             [
              0.4444444444444444,
              "#bd3786"
             ],
             [
              0.5555555555555556,
              "#d8576b"
             ],
             [
              0.6666666666666666,
              "#ed7953"
             ],
             [
              0.7777777777777778,
              "#fb9f3a"
             ],
             [
              0.8888888888888888,
              "#fdca26"
             ],
             [
              1,
              "#f0f921"
             ]
            ],
            "type": "heatmap"
           }
          ],
          "heatmapgl": [
           {
            "colorbar": {
             "outlinewidth": 0,
             "ticks": ""
            },
            "colorscale": [
             [
              0,
              "#0d0887"
             ],
             [
              0.1111111111111111,
              "#46039f"
             ],
             [
              0.2222222222222222,
              "#7201a8"
             ],
             [
              0.3333333333333333,
              "#9c179e"
             ],
             [
              0.4444444444444444,
              "#bd3786"
             ],
             [
              0.5555555555555556,
              "#d8576b"
             ],
             [
              0.6666666666666666,
              "#ed7953"
             ],
             [
              0.7777777777777778,
              "#fb9f3a"
             ],
             [
              0.8888888888888888,
              "#fdca26"
             ],
             [
              1,
              "#f0f921"
             ]
            ],
            "type": "heatmapgl"
           }
          ],
          "histogram": [
           {
            "marker": {
             "pattern": {
              "fillmode": "overlay",
              "size": 10,
              "solidity": 0.2
             }
            },
            "type": "histogram"
           }
          ],
          "histogram2d": [
           {
            "colorbar": {
             "outlinewidth": 0,
             "ticks": ""
            },
            "colorscale": [
             [
              0,
              "#0d0887"
             ],
             [
              0.1111111111111111,
              "#46039f"
             ],
             [
              0.2222222222222222,
              "#7201a8"
             ],
             [
              0.3333333333333333,
              "#9c179e"
             ],
             [
              0.4444444444444444,
              "#bd3786"
             ],
             [
              0.5555555555555556,
              "#d8576b"
             ],
             [
              0.6666666666666666,
              "#ed7953"
             ],
             [
              0.7777777777777778,
              "#fb9f3a"
             ],
             [
              0.8888888888888888,
              "#fdca26"
             ],
             [
              1,
              "#f0f921"
             ]
            ],
            "type": "histogram2d"
           }
          ],
          "histogram2dcontour": [
           {
            "colorbar": {
             "outlinewidth": 0,
             "ticks": ""
            },
            "colorscale": [
             [
              0,
              "#0d0887"
             ],
             [
              0.1111111111111111,
              "#46039f"
             ],
             [
              0.2222222222222222,
              "#7201a8"
             ],
             [
              0.3333333333333333,
              "#9c179e"
             ],
             [
              0.4444444444444444,
              "#bd3786"
             ],
             [
              0.5555555555555556,
              "#d8576b"
             ],
             [
              0.6666666666666666,
              "#ed7953"
             ],
             [
              0.7777777777777778,
              "#fb9f3a"
             ],
             [
              0.8888888888888888,
              "#fdca26"
             ],
             [
              1,
              "#f0f921"
             ]
            ],
            "type": "histogram2dcontour"
           }
          ],
          "mesh3d": [
           {
            "colorbar": {
             "outlinewidth": 0,
             "ticks": ""
            },
            "type": "mesh3d"
           }
          ],
          "parcoords": [
           {
            "line": {
             "colorbar": {
              "outlinewidth": 0,
              "ticks": ""
             }
            },
            "type": "parcoords"
           }
          ],
          "pie": [
           {
            "automargin": true,
            "type": "pie"
           }
          ],
          "scatter": [
           {
            "fillpattern": {
             "fillmode": "overlay",
             "size": 10,
             "solidity": 0.2
            },
            "type": "scatter"
           }
          ],
          "scatter3d": [
           {
            "line": {
             "colorbar": {
              "outlinewidth": 0,
              "ticks": ""
             }
            },
            "marker": {
             "colorbar": {
              "outlinewidth": 0,
              "ticks": ""
             }
            },
            "type": "scatter3d"
           }
          ],
          "scattercarpet": [
           {
            "marker": {
             "colorbar": {
              "outlinewidth": 0,
              "ticks": ""
             }
            },
            "type": "scattercarpet"
           }
          ],
          "scattergeo": [
           {
            "marker": {
             "colorbar": {
              "outlinewidth": 0,
              "ticks": ""
             }
            },
            "type": "scattergeo"
           }
          ],
          "scattergl": [
           {
            "marker": {
             "colorbar": {
              "outlinewidth": 0,
              "ticks": ""
             }
            },
            "type": "scattergl"
           }
          ],
          "scattermapbox": [
           {
            "marker": {
             "colorbar": {
              "outlinewidth": 0,
              "ticks": ""
             }
            },
            "type": "scattermapbox"
           }
          ],
          "scatterpolar": [
           {
            "marker": {
             "colorbar": {
              "outlinewidth": 0,
              "ticks": ""
             }
            },
            "type": "scatterpolar"
           }
          ],
          "scatterpolargl": [
           {
            "marker": {
             "colorbar": {
              "outlinewidth": 0,
              "ticks": ""
             }
            },
            "type": "scatterpolargl"
           }
          ],
          "scatterternary": [
           {
            "marker": {
             "colorbar": {
              "outlinewidth": 0,
              "ticks": ""
             }
            },
            "type": "scatterternary"
           }
          ],
          "surface": [
           {
            "colorbar": {
             "outlinewidth": 0,
             "ticks": ""
            },
            "colorscale": [
             [
              0,
              "#0d0887"
             ],
             [
              0.1111111111111111,
              "#46039f"
             ],
             [
              0.2222222222222222,
              "#7201a8"
             ],
             [
              0.3333333333333333,
              "#9c179e"
             ],
             [
              0.4444444444444444,
              "#bd3786"
             ],
             [
              0.5555555555555556,
              "#d8576b"
             ],
             [
              0.6666666666666666,
              "#ed7953"
             ],
             [
              0.7777777777777778,
              "#fb9f3a"
             ],
             [
              0.8888888888888888,
              "#fdca26"
             ],
             [
              1,
              "#f0f921"
             ]
            ],
            "type": "surface"
           }
          ],
          "table": [
           {
            "cells": {
             "fill": {
              "color": "#EBF0F8"
             },
             "line": {
              "color": "white"
             }
            },
            "header": {
             "fill": {
              "color": "#C8D4E3"
             },
             "line": {
              "color": "white"
             }
            },
            "type": "table"
           }
          ]
         },
         "layout": {
          "annotationdefaults": {
           "arrowcolor": "#2a3f5f",
           "arrowhead": 0,
           "arrowwidth": 1
          },
          "autotypenumbers": "strict",
          "coloraxis": {
           "colorbar": {
            "outlinewidth": 0,
            "ticks": ""
           }
          },
          "colorscale": {
           "diverging": [
            [
             0,
             "#8e0152"
            ],
            [
             0.1,
             "#c51b7d"
            ],
            [
             0.2,
             "#de77ae"
            ],
            [
             0.3,
             "#f1b6da"
            ],
            [
             0.4,
             "#fde0ef"
            ],
            [
             0.5,
             "#f7f7f7"
            ],
            [
             0.6,
             "#e6f5d0"
            ],
            [
             0.7,
             "#b8e186"
            ],
            [
             0.8,
             "#7fbc41"
            ],
            [
             0.9,
             "#4d9221"
            ],
            [
             1,
             "#276419"
            ]
           ],
           "sequential": [
            [
             0,
             "#0d0887"
            ],
            [
             0.1111111111111111,
             "#46039f"
            ],
            [
             0.2222222222222222,
             "#7201a8"
            ],
            [
             0.3333333333333333,
             "#9c179e"
            ],
            [
             0.4444444444444444,
             "#bd3786"
            ],
            [
             0.5555555555555556,
             "#d8576b"
            ],
            [
             0.6666666666666666,
             "#ed7953"
            ],
            [
             0.7777777777777778,
             "#fb9f3a"
            ],
            [
             0.8888888888888888,
             "#fdca26"
            ],
            [
             1,
             "#f0f921"
            ]
           ],
           "sequentialminus": [
            [
             0,
             "#0d0887"
            ],
            [
             0.1111111111111111,
             "#46039f"
            ],
            [
             0.2222222222222222,
             "#7201a8"
            ],
            [
             0.3333333333333333,
             "#9c179e"
            ],
            [
             0.4444444444444444,
             "#bd3786"
            ],
            [
             0.5555555555555556,
             "#d8576b"
            ],
            [
             0.6666666666666666,
             "#ed7953"
            ],
            [
             0.7777777777777778,
             "#fb9f3a"
            ],
            [
             0.8888888888888888,
             "#fdca26"
            ],
            [
             1,
             "#f0f921"
            ]
           ]
          },
          "colorway": [
           "#636efa",
           "#EF553B",
           "#00cc96",
           "#ab63fa",
           "#FFA15A",
           "#19d3f3",
           "#FF6692",
           "#B6E880",
           "#FF97FF",
           "#FECB52"
          ],
          "font": {
           "color": "#2a3f5f"
          },
          "geo": {
           "bgcolor": "white",
           "lakecolor": "white",
           "landcolor": "#E5ECF6",
           "showlakes": true,
           "showland": true,
           "subunitcolor": "white"
          },
          "hoverlabel": {
           "align": "left"
          },
          "hovermode": "closest",
          "mapbox": {
           "style": "light"
          },
          "paper_bgcolor": "white",
          "plot_bgcolor": "#E5ECF6",
          "polar": {
           "angularaxis": {
            "gridcolor": "white",
            "linecolor": "white",
            "ticks": ""
           },
           "bgcolor": "#E5ECF6",
           "radialaxis": {
            "gridcolor": "white",
            "linecolor": "white",
            "ticks": ""
           }
          },
          "scene": {
           "xaxis": {
            "backgroundcolor": "#E5ECF6",
            "gridcolor": "white",
            "gridwidth": 2,
            "linecolor": "white",
            "showbackground": true,
            "ticks": "",
            "zerolinecolor": "white"
           },
           "yaxis": {
            "backgroundcolor": "#E5ECF6",
            "gridcolor": "white",
            "gridwidth": 2,
            "linecolor": "white",
            "showbackground": true,
            "ticks": "",
            "zerolinecolor": "white"
           },
           "zaxis": {
            "backgroundcolor": "#E5ECF6",
            "gridcolor": "white",
            "gridwidth": 2,
            "linecolor": "white",
            "showbackground": true,
            "ticks": "",
            "zerolinecolor": "white"
           }
          },
          "shapedefaults": {
           "line": {
            "color": "#2a3f5f"
           }
          },
          "ternary": {
           "aaxis": {
            "gridcolor": "white",
            "linecolor": "white",
            "ticks": ""
           },
           "baxis": {
            "gridcolor": "white",
            "linecolor": "white",
            "ticks": ""
           },
           "bgcolor": "#E5ECF6",
           "caxis": {
            "gridcolor": "white",
            "linecolor": "white",
            "ticks": ""
           }
          },
          "title": {
           "x": 0.05
          },
          "xaxis": {
           "automargin": true,
           "gridcolor": "white",
           "linecolor": "white",
           "ticks": "",
           "title": {
            "standoff": 15
           },
           "zerolinecolor": "white",
           "zerolinewidth": 2
          },
          "yaxis": {
           "automargin": true,
           "gridcolor": "white",
           "linecolor": "white",
           "ticks": "",
           "title": {
            "standoff": 15
           },
           "zerolinecolor": "white",
           "zerolinewidth": 2
          }
         }
        },
        "title": {
         "text": "Web Development Courses: Price vs. Subscribers Over Time"
        },
        "xaxis": {
         "anchor": "y",
         "domain": [
          0,
          1
         ],
         "title": {
          "text": "Number of Subscribers"
         }
        },
        "yaxis": {
         "anchor": "x",
         "domain": [
          0,
          1
         ],
         "title": {
          "text": "Price ($)"
         }
        }
       }
      }
     },
     "metadata": {},
     "output_type": "display_data"
    }
   ],
   "source": [
    "#  Show all the courses of web development where the price is above 50?\n",
    "# Filter the DataFrame for courses in 'Web Development' with price > 50\n",
    "filtered_df = df[(df.subject == \"Web Development\") & (df.price > '50')]\n",
    "\n",
    "# Create the animated bubble chart\n",
    "fig = px.scatter(\n",
    "    filtered_df,\n",
    "    x=\"num_subscribers\",\n",
    "    y=\"price\",\n",
    "    size=\"num_reviews\",\n",
    "    color=\"level\",  # Replace with 'subject' or another variable if 'level' has limited categories\n",
    "    hover_name=\"course_title\",\n",
    "    title=\"Web Development Courses: Price vs. Subscribers Over Time\",\n",
    "    labels={\n",
    "        \"num_subscribers\": \"Number of Subscribers\",\n",
    "        \"price\": \"Price ($)\",\n",
    "        \"num_reviews\": \"Number of Reviews\",\n",
    "        \"level\": \"Course Level\",\n",
    "    },\n",
    "    height=600\n",
    ")\n",
    "\n",
    "# Display the chart\n",
    "fig.show()"
   ]
  },
  {
   "cell_type": "code",
   "execution_count": 109,
   "metadata": {},
   "outputs": [
    {
     "data": {
      "image/png": "[encoded data removed]",
      "text/plain": [
       "<Figure size 1200x800 with 1 Axes>"
      ]
     },
     "metadata": {},
     "output_type": "display_data"
    }
   ],
   "source": [
    "# What are the maximum number of subscribers for each level of courses?\n",
    "df.level.unique()\n",
    "\n",
    "# data.groupby('level') - syntax to create a group in any column.\n",
    "# ['num_subscribers'] - syntax to work on second column.\n",
    "\n",
    "df.groupby('level')['num_subscribers'].max()\n",
    "\n",
    "level = df.groupby(\"level\").max()\n",
    "\n",
    "# Create the bar plot using Seaborn to show the maximum values\n",
    "plt.figure(figsize=(12, 8))\n",
    "\n",
    "# Bar plot for 'num_subscribers'\n",
    "plt.bar(level.index, level['num_subscribers'], color='green', alpha=0.5, label='Subscribers')\n",
    "\n",
    "# Customize the plot (optional)\n",
    "plt.title('Maximum number of  Subscribers by Course Level')\n",
    "plt.xlabel('Course Level')\n",
    "plt.ylabel('Values')\n",
    "\n",
    "# Display the plot\n",
    "plt.tight_layout()  # Adjust the layout to ensure the labels fit\n",
    "plt.show()"
   ]
  },
  {
   "cell_type": "code",
   "execution_count": null,
   "metadata": {},
   "outputs": [],
   "source": [
    "\n"
   ]
  },
  {
   "cell_type": "code",
   "execution_count": 110,
   "metadata": {},
   "outputs": [
    {
     "data": {
      "text/plain": [
       "course_id               int64\n",
       "course_title           object\n",
       "is_paid                  bool\n",
       "price                  object\n",
       "num_subscribers         int64\n",
       "num_reviews             int64\n",
       "num_lectures            int64\n",
       "level                  object\n",
       "content_duration       object\n",
       "published_timestamp    object\n",
       "subject                object\n",
       "dtype: object"
      ]
     },
     "execution_count": 110,
     "metadata": {},
     "output_type": "execute_result"
    }
   ],
   "source": [
    "# What are courses that published in year 2015?\n",
    "# check the data type of the data\n",
    "\n",
    "df.dtypes"
   ]
  },
  {
   "cell_type": "code",
   "execution_count": 111,
   "metadata": {},
   "outputs": [
    {
     "name": "stderr",
     "output_type": "stream",
     "text": [
      "C:\\Users\\MARG\\AppData\\Local\\Temp\\ipykernel_30652\\1222907940.py:15: FutureWarning:\n",
      "\n",
      "\n",
      "\n",
      "Passing `palette` without assigning `hue` is deprecated and will be removed in v0.14.0. Assign the `x` variable to `hue` and set `legend=False` for the same effect.\n",
      "\n",
      "\n"
     ]
    },
    {
     "data": {
      "image/png": "[encoded data removed]",
      "text/plain": [
       "<Figure size 1000x600 with 1 Axes>"
      ]
     },
     "metadata": {},
     "output_type": "display_data"
    }
   ],
   "source": [
    "# change the data type of the published_timestamp column \n",
    "df[\"published_timestamp\"] = pd.to_datetime(df.published_timestamp)\n",
    "\n",
    "# create a new column name year in the data\n",
    "df[\"Year\"] = df['published_timestamp'].dt.year\n",
    "\n",
    "# now print the year column \n",
    "courses_2015 = df[df.Year == 2015]\n",
    "\n",
    "# Count the number of courses by subject\n",
    "subject_counts = courses_2015['subject'].value_counts()\n",
    "\n",
    "# Plot the data\n",
    "plt.figure(figsize=(10, 6))\n",
    "sns.barplot(x=subject_counts.index, y=subject_counts.values, palette=\"viridis\")\n",
    "\n",
    "# Add labels and title\n",
    "plt.title('Number of Courses by Subject in 2015', fontsize=16)\n",
    "plt.xlabel('Subject', fontsize=14)\n",
    "plt.ylabel('Number of Courses', fontsize=14)\n",
    "plt.xticks(rotation=45)\n",
    "\n",
    "# Display the plot\n",
    "plt.tight_layout()\n",
    "plt.show()"
   ]
  }
 ],
 "metadata": {
  "kernelspec": {
   "display_name": "Python 3",
   "language": "python",
   "name": "python3"
  },
  "language_info": {
   "codemirror_mode": {
    "name": "ipython",
    "version": 3
   },
   "file_extension": ".py",
   "mimetype": "text/x-python",
   "name": "python",
   "nbconvert_exporter": "python",
   "pygments_lexer": "ipython3",
   "version": "3.8.0"
  }
 },
 "nbformat": 4,
 "nbformat_minor": 2
}
